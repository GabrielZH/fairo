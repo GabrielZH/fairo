{
 "cells": [
  {
   "cell_type": "code",
   "execution_count": 29,
   "id": "a195c8cd-877c-4f0c-a56e-56c4583e1ab2",
   "metadata": {},
   "outputs": [
    {
     "data": {
      "image/png": "[encoded data removed]",
      "text/plain": [
       "<Figure size 576x288 with 1 Axes>"
      ]
     },
     "metadata": {
      "needs_background": "light"
     },
     "output_type": "display_data"
    }
   ],
   "source": [
    "aps = []\n",
    "\n",
    "import random \n",
    "import numpy as np\n",
    "import matplotlib.pyplot as plt\n",
    "from collections import defaultdict, namedtuple\n",
    "\n",
    "traj_aps_base, traj_aps_act = defaultdict(list), defaultdict(list)\n",
    "\n",
    "for t in range(200):\n",
    "    mul = 1\n",
    "    if random.randint(0,10) > 7: # make active better than baseline ~70% of the time\n",
    "        mul = -1\n",
    "    for p in range(0,20,2):\n",
    "        ap = random.uniform(15, 50)\n",
    "        traj_aps_base[p].append(ap)\n",
    "        traj_aps_act[p].append(ap+mul*random.randint(0,10))\n",
    "    \n",
    "meanvar = namedtuple('meanvar', 'mean, var')\n",
    "\n",
    "def get_mean_var(a):\n",
    "    mv = defaultdict(meanvar)\n",
    "    for p, aps in a.items():\n",
    "        # print([\n",
    "        mv[p] = meanvar(np.average(aps), np.var(aps))\n",
    "    return mv\n",
    "    \n",
    "def draw(xs, ys, ys_err, label):\n",
    "    plt.ylabel('AP')\n",
    "    plt.errorbar(xs, ys, yerr=ys_err, label=label) \n",
    "\n",
    "import math\n",
    "\n",
    "# plot\n",
    "def plot(a, b):\n",
    "    fig = plt.figure(figsize=(8,4))\n",
    "    for x, label in [a, b]:\n",
    "        x_mv = get_mean_var(x) \n",
    "        xs, xv, xerr = [], [], []\n",
    "        for k, v in x_mv.items():\n",
    "            xs.append(k)\n",
    "            xv.append(v.mean)\n",
    "            xerr.append(math.sqrt(v.var))\n",
    "        draw(xs, xv, xerr, label)\n",
    "    plt.legend()    \n",
    "    plt.show()\n",
    "    \n",
    "plot((traj_aps_base, 'baseline'), (traj_aps_act, 'active'))"
   ]
  },
  {
   "cell_type": "code",
   "execution_count": null,
   "id": "707d358b-f2ed-4117-b977-982445097d3f",
   "metadata": {},
   "outputs": [],
   "source": []
  }
 ],
 "metadata": {
  "kernelspec": {
   "display_name": "Python [conda env:droidlet]",
   "language": "python",
   "name": "conda-env-droidlet-py"
  },
  "language_info": {
   "codemirror_mode": {
    "name": "ipython",
    "version": 3
   },
   "file_extension": ".py",
   "mimetype": "text/x-python",
   "name": "python",
   "nbconvert_exporter": "python",
   "pygments_lexer": "ipython3",
   "version": "3.7.12"
  }
 },
 "nbformat": 4,
 "nbformat_minor": 5
}
