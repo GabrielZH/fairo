{
 "cells": [
  {
   "cell_type": "code",
   "execution_count": 30,
   "id": "eaf7d419",
   "metadata": {},
   "outputs": [],
   "source": [
    "import os\n",
    "\n",
    "import torch\n",
    "import urdfpy\n",
    "\n",
    "import torchcontrol as toco\n",
    "from torchcontrol.transform import Rotation as R\n",
    "from torchcontrol.transform import Transformation as T\n",
    "from polymetis.utils.data_dir import get_full_path_to_urdf"
   ]
  },
  {
   "cell_type": "code",
   "execution_count": 31,
   "id": "005b6239",
   "metadata": {},
   "outputs": [],
   "source": [
    "# experiment hyperparams\n",
    "NUM_SAMPLES = 100\n",
    "TIME_TO_GO = 4\n",
    "\n",
    "# env hyperparams\n",
    "URDF_PATH = get_full_path_to_urdf(\"franka_panda/panda_arm.urdf\")\n",
    "EE_NAME = \"panda_link8\"\n",
    "\n",
    "HZ = 1000\n",
    "NUM_DOFS = 7\n",
    "UPPER_JOINT_LIMITS = [2.80, 1.66, 2.80, -0.17, 2.80, 3.65, 2.80]\n",
    "LOWER_JOINT_LIMITS = [-2.80, -1.66, -2.80, -2.97, -2.80, 0.08, -2.80]\n",
    "UPPER_EE_POS_LIMITS = [1.0, 0.4, 1.0]\n",
    "LOWER_EE_POS_LIMITS = [0.1, -0.4, -0.05]\n",
    "EE_ORI_RANGE = 1\n",
    "\n",
    "REST_POSE = [-0.1394, -0.0205, -0.0520, -2.0691, 0.05059, 2.0029, -0.9168]\n",
    "REST_ORI = [0.9383,  0.3442, -0.0072, -0.0318]"
   ]
  },
  {
   "cell_type": "code",
   "execution_count": 32,
   "id": "35a1f8e1",
   "metadata": {},
   "outputs": [],
   "source": [
    "# sampling functions\n",
    "joint_pos_hi = torch.Tensor(UPPER_JOINT_LIMITS)\n",
    "joint_pos_lo = torch.Tensor(LOWER_JOINT_LIMITS)\n",
    "ee_pos_hi = torch.Tensor(UPPER_EE_POS_LIMITS)\n",
    "ee_pos_lo = torch.Tensor(LOWER_EE_POS_LIMITS)\n",
    "\n",
    "joint_pos_rest = torch.Tensor(REST_POSE)\n",
    "ee_quat_rest = torch.Tensor(REST_ORI)\n",
    "\n",
    "def sample_joint_pos():\n",
    "    joint_pos_diff = joint_pos_hi - joint_pos_lo\n",
    "    return joint_pos_lo + torch.rand(NUM_DOFS) * joint_pos_diff\n",
    "\n",
    "def sample_ee_pose():\n",
    "    ee_pos_diff = ee_pos_hi - ee_pos_lo\n",
    "    ee_pos_sampled = ee_pos_lo + torch.rand(3) * ee_pos_diff\n",
    "\n",
    "    ee_rot_sampled = R.from_rotvec(EE_ORI_RANGE * torch.randn(3)) * R.from_quat(ee_quat_rest)\n",
    "    \n",
    "    return T.from_rot_xyz(ee_rot_sampled, ee_pos_sampled)\n",
    "\n",
    "# robot model\n",
    "robot_model = toco.models.RobotModelPinocchio(URDF_PATH, EE_NAME)\n",
    "\n",
    "# collect data\n",
    "trajectories = []\n",
    "for _ in range(NUM_SAMPLES):\n",
    "    # sample start & destination\n",
    "    joint_pos_start = sample_joint_pos()\n",
    "    ee_pose_target = sample_ee_pose()\n",
    "    \n",
    "    # plan trajectory\n",
    "    waypoints = toco.planning.generate_cartesian_target_joint_min_jerk(\n",
    "        joint_pos_start, ee_pose_target, TIME_TO_GO, HZ, robot_model\n",
    "    )\n",
    "    trajectories.append(waypoints)"
   ]
  },
  {
   "cell_type": "code",
   "execution_count": 33,
   "id": "b86fa078",
   "metadata": {},
   "outputs": [
    {
     "data": {
      "text/plain": [
       "100"
      ]
     },
     "execution_count": 33,
     "metadata": {},
     "output_type": "execute_result"
    }
   ],
   "source": [
    "# visualize\n",
    "len(trajectories)"
   ]
  },
  {
   "cell_type": "code",
   "execution_count": null,
   "id": "f5990981",
   "metadata": {},
   "outputs": [],
   "source": []
  }
 ],
 "metadata": {
  "kernelspec": {
   "display_name": "Python 3 (ipykernel)",
   "language": "python",
   "name": "python3"
  },
  "language_info": {
   "codemirror_mode": {
    "name": "ipython",
    "version": 3
   },
   "file_extension": ".py",
   "mimetype": "text/x-python",
   "name": "python",
   "nbconvert_exporter": "python",
   "pygments_lexer": "ipython3",
   "version": "3.8.0"
  }
 },
 "nbformat": 4,
 "nbformat_minor": 5
}
