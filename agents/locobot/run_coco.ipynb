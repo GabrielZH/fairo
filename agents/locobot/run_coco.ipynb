{
 "cells": [
  {
   "cell_type": "code",
   "execution_count": null,
   "id": "a4b10bc3-a171-420b-a55b-4fe714d0514f",
   "metadata": {},
   "outputs": [
    {
     "name": "stderr",
     "output_type": "stream",
     "text": [
      "/tmp/ipykernel_31829/1786034308.py:13: DeprecationWarning: Importing display from IPython.core.display is deprecated since IPython 7.14, please import from IPython display\n",
      "  from IPython.core.display import display, HTML\n"
     ]
    },
    {
     "name": "stdout",
     "output_type": "stream",
     "text": [
      "running coco for /home/locobotm/0512_data/train_data_1805_3sample/s1ppr2/propagated_2/pred_label_p12\n",
      "instance_label 87_plant\n",
      "instance_label 103_hamper\n",
      "instance_label 140_armchair\n",
      "Scene soumith_apt, seg dir /home/locobotm/0512_data/train_data_1805_3sample/s1ppr2/propagated_2/pred_label_p12/seg\n",
      "get_segm_files /home/locobotm/0512_data/train_data_1805_3sample/s1ppr2/propagated_2/pred_label_p12/seg, pct 1, total_files 71\n",
      "Creating COCO annotations for 71 images \n",
      " img_dir /home/locobotm/0512_data/train_data_1805_3sample/s1ppr2/propagated_2/pred_label_p12/rgb\n"
     ]
    },
    {
     "name": "stderr",
     "output_type": "stream",
     "text": [
      "  0%|                                                                                                              | 0/71 [00:00<?, ?it/s]/home/locobotm/miniconda3/envs/droidlet/lib/python3.8/site-packages/pycococreatortools/pycococreatortools.py:48: VisibleDeprecationWarning: Creating an ndarray from ragged nested sequences (which is a list-or-tuple of lists-or-tuples-or ndarrays with different lengths or shapes) is deprecated. If you meant to do this, you must specify 'dtype=object' when creating the ndarray.\n",
      "  contours = np.subtract(contours, 1)\n",
      "100%|█████████████████████████████████████████████████████████████████████████████████████████████████████| 71/71 [00:25<00:00,  2.82it/s]\n"
     ]
    },
    {
     "name": "stdout",
     "output_type": "stream",
     "text": [
      "self.CATS [{'id': 1, 'name': '87_plant', 'supercategory': 'shape'}, {'id': 2, 'name': '103_hamper', 'supercategory': 'shape'}, {'id': 3, 'name': '140_armchair', 'supercategory': 'shape'}]\n",
      "Dumping 54 annotations to /home/locobotm/0512_data/train_data_1805_3sample/s1ppr2/propagated_2/pred_label_p12/coco.json\n",
      "save_dir /home/locobotm/0512_data/train_data_1805_3sample/s1ppr2/propagated_2/pred_label_p12/coco_visuals, coco_file_name /home/locobotm/0512_data/train_data_1805_3sample/s1ppr2/propagated_2/pred_label_p12/coco.json\n",
      "running coco for /home/locobotm/0512_data/train_data_1805_3sample/s1ppr2/propagated_2/pred_label_p0\n",
      "instance_label 87_plant\n",
      "instance_label 103_hamper\n",
      "instance_label 140_armchair\n",
      "Scene soumith_apt, seg dir /home/locobotm/0512_data/train_data_1805_3sample/s1ppr2/propagated_2/pred_label_p0/seg\n",
      "get_segm_files /home/locobotm/0512_data/train_data_1805_3sample/s1ppr2/propagated_2/pred_label_p0/seg, pct 1, total_files 6\n",
      "Creating COCO annotations for 6 images \n",
      " img_dir /home/locobotm/0512_data/train_data_1805_3sample/s1ppr2/propagated_2/pred_label_p0/rgb\n"
     ]
    },
    {
     "name": "stderr",
     "output_type": "stream",
     "text": [
      "100%|███████████████████████████████████████████████████████████████████████████████████████████████████████| 6/6 [00:01<00:00,  4.94it/s]\n"
     ]
    },
    {
     "name": "stdout",
     "output_type": "stream",
     "text": [
      "self.CATS [{'id': 1, 'name': '87_plant', 'supercategory': 'shape'}, {'id': 2, 'name': '103_hamper', 'supercategory': 'shape'}, {'id': 3, 'name': '140_armchair', 'supercategory': 'shape'}]\n",
      "Dumping 8 annotations to /home/locobotm/0512_data/train_data_1805_3sample/s1ppr2/propagated_2/pred_label_p0/coco.json\n",
      "save_dir /home/locobotm/0512_data/train_data_1805_3sample/s1ppr2/propagated_2/pred_label_p0/coco_visuals, coco_file_name /home/locobotm/0512_data/train_data_1805_3sample/s1ppr2/propagated_2/pred_label_p0/coco.json\n",
      "running coco for /home/locobotm/0512_data/train_data_1805_3sample/s1ppr2/propagated_2/pred_label_p8\n",
      "instance_label 87_plant\n",
      "instance_label 103_hamper\n",
      "instance_label 140_armchair\n",
      "Scene soumith_apt, seg dir /home/locobotm/0512_data/train_data_1805_3sample/s1ppr2/propagated_2/pred_label_p8/seg\n",
      "get_segm_files /home/locobotm/0512_data/train_data_1805_3sample/s1ppr2/propagated_2/pred_label_p8/seg, pct 1, total_files 51\n",
      "Creating COCO annotations for 51 images \n",
      " img_dir /home/locobotm/0512_data/train_data_1805_3sample/s1ppr2/propagated_2/pred_label_p8/rgb\n"
     ]
    },
    {
     "name": "stderr",
     "output_type": "stream",
     "text": [
      "100%|█████████████████████████████████████████████████████████████████████████████████████████████████████| 51/51 [00:15<00:00,  3.33it/s]\n"
     ]
    },
    {
     "name": "stdout",
     "output_type": "stream",
     "text": [
      "self.CATS [{'id': 1, 'name': '87_plant', 'supercategory': 'shape'}, {'id': 2, 'name': '103_hamper', 'supercategory': 'shape'}, {'id': 3, 'name': '140_armchair', 'supercategory': 'shape'}]\n",
      "Dumping 45 annotations to /home/locobotm/0512_data/train_data_1805_3sample/s1ppr2/propagated_2/pred_label_p8/coco.json\n",
      "save_dir /home/locobotm/0512_data/train_data_1805_3sample/s1ppr2/propagated_2/pred_label_p8/coco_visuals, coco_file_name /home/locobotm/0512_data/train_data_1805_3sample/s1ppr2/propagated_2/pred_label_p8/coco.json\n",
      "running coco for /home/locobotm/0512_data/train_data_1805_3sample/s1ppr2/propagated_2/pred_label_p4\n",
      "instance_label 87_plant\n",
      "instance_label 103_hamper\n",
      "instance_label 140_armchair\n",
      "Scene soumith_apt, seg dir /home/locobotm/0512_data/train_data_1805_3sample/s1ppr2/propagated_2/pred_label_p4/seg\n",
      "get_segm_files /home/locobotm/0512_data/train_data_1805_3sample/s1ppr2/propagated_2/pred_label_p4/seg, pct 1, total_files 30\n",
      "Creating COCO annotations for 30 images \n",
      " img_dir /home/locobotm/0512_data/train_data_1805_3sample/s1ppr2/propagated_2/pred_label_p4/rgb\n"
     ]
    },
    {
     "name": "stderr",
     "output_type": "stream",
     "text": [
      "100%|█████████████████████████████████████████████████████████████████████████████████████████████████████| 30/30 [00:07<00:00,  4.25it/s]\n"
     ]
    },
    {
     "name": "stdout",
     "output_type": "stream",
     "text": [
      "self.CATS [{'id': 1, 'name': '87_plant', 'supercategory': 'shape'}, {'id': 2, 'name': '103_hamper', 'supercategory': 'shape'}, {'id': 3, 'name': '140_armchair', 'supercategory': 'shape'}]\n",
      "Dumping 32 annotations to /home/locobotm/0512_data/train_data_1805_3sample/s1ppr2/propagated_2/pred_label_p4/coco.json\n",
      "save_dir /home/locobotm/0512_data/train_data_1805_3sample/s1ppr2/propagated_2/pred_label_p4/coco_visuals, coco_file_name /home/locobotm/0512_data/train_data_1805_3sample/s1ppr2/propagated_2/pred_label_p4/coco.json\n",
      "running coco for /home/locobotm/0512_data/train_data_1805_3sample/s1ppr2/propagated_2/pred_label_p16\n",
      "instance_label 87_plant\n",
      "instance_label 103_hamper\n",
      "instance_label 140_armchair\n",
      "Scene soumith_apt, seg dir /home/locobotm/0512_data/train_data_1805_3sample/s1ppr2/propagated_2/pred_label_p16/seg\n",
      "get_segm_files /home/locobotm/0512_data/train_data_1805_3sample/s1ppr2/propagated_2/pred_label_p16/seg, pct 1, total_files 91\n",
      "Creating COCO annotations for 91 images \n",
      " img_dir /home/locobotm/0512_data/train_data_1805_3sample/s1ppr2/propagated_2/pred_label_p16/rgb\n"
     ]
    },
    {
     "name": "stderr",
     "output_type": "stream",
     "text": [
      "100%|█████████████████████████████████████████████████████████████████████████████████████████████████████| 91/91 [00:34<00:00,  2.62it/s]\n"
     ]
    },
    {
     "name": "stdout",
     "output_type": "stream",
     "text": [
      "self.CATS [{'id': 1, 'name': '87_plant', 'supercategory': 'shape'}, {'id': 2, 'name': '103_hamper', 'supercategory': 'shape'}, {'id': 3, 'name': '140_armchair', 'supercategory': 'shape'}]\n",
      "Dumping 63 annotations to /home/locobotm/0512_data/train_data_1805_3sample/s1ppr2/propagated_2/pred_label_p16/coco.json\n",
      "save_dir /home/locobotm/0512_data/train_data_1805_3sample/s1ppr2/propagated_2/pred_label_p16/coco_visuals, coco_file_name /home/locobotm/0512_data/train_data_1805_3sample/s1ppr2/propagated_2/pred_label_p16/coco.json\n",
      "running coco for /home/locobotm/0512_data/train_data_1805_3sample/s1ppr2/propagated_0/pred_label_p12\n",
      "instance_label 87_plant\n",
      "instance_label 103_hamper\n",
      "instance_label 140_armchair\n",
      "Scene soumith_apt, seg dir /home/locobotm/0512_data/train_data_1805_3sample/s1ppr2/propagated_0/pred_label_p12/seg\n",
      "get_segm_files /home/locobotm/0512_data/train_data_1805_3sample/s1ppr2/propagated_0/pred_label_p12/seg, pct 1, total_files 71\n",
      "Creating COCO annotations for 71 images \n",
      " img_dir /home/locobotm/0512_data/train_data_1805_3sample/s1ppr2/propagated_0/pred_label_p12/rgb\n"
     ]
    },
    {
     "name": "stderr",
     "output_type": "stream",
     "text": [
      "100%|█████████████████████████████████████████████████████████████████████████████████████████████████████| 71/71 [00:25<00:00,  2.78it/s]\n"
     ]
    },
    {
     "name": "stdout",
     "output_type": "stream",
     "text": [
      "self.CATS [{'id': 1, 'name': '87_plant', 'supercategory': 'shape'}, {'id': 2, 'name': '103_hamper', 'supercategory': 'shape'}, {'id': 3, 'name': '140_armchair', 'supercategory': 'shape'}]\n",
      "Dumping 54 annotations to /home/locobotm/0512_data/train_data_1805_3sample/s1ppr2/propagated_0/pred_label_p12/coco.json\n",
      "save_dir /home/locobotm/0512_data/train_data_1805_3sample/s1ppr2/propagated_0/pred_label_p12/coco_visuals, coco_file_name /home/locobotm/0512_data/train_data_1805_3sample/s1ppr2/propagated_0/pred_label_p12/coco.json\n",
      "running coco for /home/locobotm/0512_data/train_data_1805_3sample/s1ppr2/propagated_0/pred_label_p0\n",
      "instance_label 87_plant\n",
      "instance_label 103_hamper\n",
      "instance_label 140_armchair\n",
      "Scene soumith_apt, seg dir /home/locobotm/0512_data/train_data_1805_3sample/s1ppr2/propagated_0/pred_label_p0/seg\n",
      "get_segm_files /home/locobotm/0512_data/train_data_1805_3sample/s1ppr2/propagated_0/pred_label_p0/seg, pct 1, total_files 6\n",
      "Creating COCO annotations for 6 images \n",
      " img_dir /home/locobotm/0512_data/train_data_1805_3sample/s1ppr2/propagated_0/pred_label_p0/rgb\n"
     ]
    },
    {
     "name": "stderr",
     "output_type": "stream",
     "text": [
      "100%|███████████████████████████████████████████████████████████████████████████████████████████████████████| 6/6 [00:01<00:00,  4.52it/s]\n"
     ]
    },
    {
     "name": "stdout",
     "output_type": "stream",
     "text": [
      "self.CATS [{'id': 1, 'name': '87_plant', 'supercategory': 'shape'}, {'id': 2, 'name': '103_hamper', 'supercategory': 'shape'}, {'id': 3, 'name': '140_armchair', 'supercategory': 'shape'}]\n",
      "Dumping 8 annotations to /home/locobotm/0512_data/train_data_1805_3sample/s1ppr2/propagated_0/pred_label_p0/coco.json\n",
      "save_dir /home/locobotm/0512_data/train_data_1805_3sample/s1ppr2/propagated_0/pred_label_p0/coco_visuals, coco_file_name /home/locobotm/0512_data/train_data_1805_3sample/s1ppr2/propagated_0/pred_label_p0/coco.json\n",
      "running coco for /home/locobotm/0512_data/train_data_1805_3sample/s1ppr2/propagated_0/pred_label_p8\n",
      "instance_label 87_plant\n",
      "instance_label 103_hamper\n",
      "instance_label 140_armchair\n",
      "Scene soumith_apt, seg dir /home/locobotm/0512_data/train_data_1805_3sample/s1ppr2/propagated_0/pred_label_p8/seg\n",
      "get_segm_files /home/locobotm/0512_data/train_data_1805_3sample/s1ppr2/propagated_0/pred_label_p8/seg, pct 1, total_files 51\n",
      "Creating COCO annotations for 51 images \n",
      " img_dir /home/locobotm/0512_data/train_data_1805_3sample/s1ppr2/propagated_0/pred_label_p8/rgb\n"
     ]
    },
    {
     "name": "stderr",
     "output_type": "stream",
     "text": [
      "100%|█████████████████████████████████████████████████████████████████████████████████████████████████████| 51/51 [00:15<00:00,  3.33it/s]\n"
     ]
    },
    {
     "name": "stdout",
     "output_type": "stream",
     "text": [
      "self.CATS [{'id': 1, 'name': '87_plant', 'supercategory': 'shape'}, {'id': 2, 'name': '103_hamper', 'supercategory': 'shape'}, {'id': 3, 'name': '140_armchair', 'supercategory': 'shape'}]\n",
      "Dumping 45 annotations to /home/locobotm/0512_data/train_data_1805_3sample/s1ppr2/propagated_0/pred_label_p8/coco.json\n",
      "save_dir /home/locobotm/0512_data/train_data_1805_3sample/s1ppr2/propagated_0/pred_label_p8/coco_visuals, coco_file_name /home/locobotm/0512_data/train_data_1805_3sample/s1ppr2/propagated_0/pred_label_p8/coco.json\n",
      "running coco for /home/locobotm/0512_data/train_data_1805_3sample/s1ppr2/propagated_0/pred_label_p4\n",
      "instance_label 87_plant\n",
      "instance_label 103_hamper\n",
      "instance_label 140_armchair\n",
      "Scene soumith_apt, seg dir /home/locobotm/0512_data/train_data_1805_3sample/s1ppr2/propagated_0/pred_label_p4/seg\n",
      "get_segm_files /home/locobotm/0512_data/train_data_1805_3sample/s1ppr2/propagated_0/pred_label_p4/seg, pct 1, total_files 30\n",
      "Creating COCO annotations for 30 images \n",
      " img_dir /home/locobotm/0512_data/train_data_1805_3sample/s1ppr2/propagated_0/pred_label_p4/rgb\n"
     ]
    },
    {
     "name": "stderr",
     "output_type": "stream",
     "text": [
      "100%|█████████████████████████████████████████████████████████████████████████████████████████████████████| 30/30 [00:07<00:00,  4.28it/s]\n"
     ]
    },
    {
     "name": "stdout",
     "output_type": "stream",
     "text": [
      "self.CATS [{'id': 1, 'name': '87_plant', 'supercategory': 'shape'}, {'id': 2, 'name': '103_hamper', 'supercategory': 'shape'}, {'id': 3, 'name': '140_armchair', 'supercategory': 'shape'}]\n",
      "Dumping 32 annotations to /home/locobotm/0512_data/train_data_1805_3sample/s1ppr2/propagated_0/pred_label_p4/coco.json\n",
      "save_dir /home/locobotm/0512_data/train_data_1805_3sample/s1ppr2/propagated_0/pred_label_p4/coco_visuals, coco_file_name /home/locobotm/0512_data/train_data_1805_3sample/s1ppr2/propagated_0/pred_label_p4/coco.json\n",
      "running coco for /home/locobotm/0512_data/train_data_1805_3sample/s1ppr2/propagated_0/pred_label_p16\n",
      "instance_label 87_plant\n",
      "instance_label 103_hamper\n",
      "instance_label 140_armchair\n",
      "Scene soumith_apt, seg dir /home/locobotm/0512_data/train_data_1805_3sample/s1ppr2/propagated_0/pred_label_p16/seg\n",
      "get_segm_files /home/locobotm/0512_data/train_data_1805_3sample/s1ppr2/propagated_0/pred_label_p16/seg, pct 1, total_files 91\n",
      "Creating COCO annotations for 91 images \n",
      " img_dir /home/locobotm/0512_data/train_data_1805_3sample/s1ppr2/propagated_0/pred_label_p16/rgb\n"
     ]
    },
    {
     "name": "stderr",
     "output_type": "stream",
     "text": [
      "100%|█████████████████████████████████████████████████████████████████████████████████████████████████████| 91/91 [00:35<00:00,  2.54it/s]\n"
     ]
    },
    {
     "name": "stdout",
     "output_type": "stream",
     "text": [
      "self.CATS [{'id': 1, 'name': '87_plant', 'supercategory': 'shape'}, {'id': 2, 'name': '103_hamper', 'supercategory': 'shape'}, {'id': 3, 'name': '140_armchair', 'supercategory': 'shape'}]\n",
      "Dumping 63 annotations to /home/locobotm/0512_data/train_data_1805_3sample/s1ppr2/propagated_0/pred_label_p16/coco.json\n",
      "save_dir /home/locobotm/0512_data/train_data_1805_3sample/s1ppr2/propagated_0/pred_label_p16/coco_visuals, coco_file_name /home/locobotm/0512_data/train_data_1805_3sample/s1ppr2/propagated_0/pred_label_p16/coco.json\n",
      "running coco for /home/locobotm/0512_data/train_data_1805_3sample/s1ppr2/propagated_1/pred_label_p12\n",
      "instance_label 87_plant\n",
      "instance_label 103_hamper\n",
      "instance_label 140_armchair\n",
      "Scene soumith_apt, seg dir /home/locobotm/0512_data/train_data_1805_3sample/s1ppr2/propagated_1/pred_label_p12/seg\n",
      "get_segm_files /home/locobotm/0512_data/train_data_1805_3sample/s1ppr2/propagated_1/pred_label_p12/seg, pct 1, total_files 71\n",
      "Creating COCO annotations for 71 images \n",
      " img_dir /home/locobotm/0512_data/train_data_1805_3sample/s1ppr2/propagated_1/pred_label_p12/rgb\n"
     ]
    },
    {
     "name": "stderr",
     "output_type": "stream",
     "text": [
      "100%|█████████████████████████████████████████████████████████████████████████████████████████████████████| 71/71 [00:25<00:00,  2.80it/s]\n"
     ]
    },
    {
     "name": "stdout",
     "output_type": "stream",
     "text": [
      "self.CATS [{'id': 1, 'name': '87_plant', 'supercategory': 'shape'}, {'id': 2, 'name': '103_hamper', 'supercategory': 'shape'}, {'id': 3, 'name': '140_armchair', 'supercategory': 'shape'}]\n",
      "Dumping 52 annotations to /home/locobotm/0512_data/train_data_1805_3sample/s1ppr2/propagated_1/pred_label_p12/coco.json\n",
      "save_dir /home/locobotm/0512_data/train_data_1805_3sample/s1ppr2/propagated_1/pred_label_p12/coco_visuals, coco_file_name /home/locobotm/0512_data/train_data_1805_3sample/s1ppr2/propagated_1/pred_label_p12/coco.json\n",
      "running coco for /home/locobotm/0512_data/train_data_1805_3sample/s1ppr2/propagated_1/pred_label_p0\n",
      "instance_label 87_plant\n",
      "instance_label 103_hamper\n",
      "instance_label 140_armchair\n",
      "Scene soumith_apt, seg dir /home/locobotm/0512_data/train_data_1805_3sample/s1ppr2/propagated_1/pred_label_p0/seg\n",
      "get_segm_files /home/locobotm/0512_data/train_data_1805_3sample/s1ppr2/propagated_1/pred_label_p0/seg, pct 1, total_files 6\n",
      "Creating COCO annotations for 6 images \n",
      " img_dir /home/locobotm/0512_data/train_data_1805_3sample/s1ppr2/propagated_1/pred_label_p0/rgb\n"
     ]
    },
    {
     "name": "stderr",
     "output_type": "stream",
     "text": [
      "100%|███████████████████████████████████████████████████████████████████████████████████████████████████████| 6/6 [00:01<00:00,  5.11it/s]\n"
     ]
    },
    {
     "name": "stdout",
     "output_type": "stream",
     "text": [
      "self.CATS [{'id': 1, 'name': '87_plant', 'supercategory': 'shape'}, {'id': 2, 'name': '103_hamper', 'supercategory': 'shape'}, {'id': 3, 'name': '140_armchair', 'supercategory': 'shape'}]\n",
      "Dumping 6 annotations to /home/locobotm/0512_data/train_data_1805_3sample/s1ppr2/propagated_1/pred_label_p0/coco.json\n",
      "save_dir /home/locobotm/0512_data/train_data_1805_3sample/s1ppr2/propagated_1/pred_label_p0/coco_visuals, coco_file_name /home/locobotm/0512_data/train_data_1805_3sample/s1ppr2/propagated_1/pred_label_p0/coco.json\n",
      "running coco for /home/locobotm/0512_data/train_data_1805_3sample/s1ppr2/propagated_1/pred_label_p8\n",
      "instance_label 87_plant\n",
      "instance_label 103_hamper\n",
      "instance_label 140_armchair\n",
      "Scene soumith_apt, seg dir /home/locobotm/0512_data/train_data_1805_3sample/s1ppr2/propagated_1/pred_label_p8/seg\n",
      "get_segm_files /home/locobotm/0512_data/train_data_1805_3sample/s1ppr2/propagated_1/pred_label_p8/seg, pct 1, total_files 51\n",
      "Creating COCO annotations for 51 images \n",
      " img_dir /home/locobotm/0512_data/train_data_1805_3sample/s1ppr2/propagated_1/pred_label_p8/rgb\n"
     ]
    },
    {
     "name": "stderr",
     "output_type": "stream",
     "text": [
      "100%|█████████████████████████████████████████████████████████████████████████████████████████████████████| 51/51 [00:14<00:00,  3.41it/s]\n"
     ]
    },
    {
     "name": "stdout",
     "output_type": "stream",
     "text": [
      "self.CATS [{'id': 1, 'name': '87_plant', 'supercategory': 'shape'}, {'id': 2, 'name': '103_hamper', 'supercategory': 'shape'}, {'id': 3, 'name': '140_armchair', 'supercategory': 'shape'}]\n",
      "Dumping 43 annotations to /home/locobotm/0512_data/train_data_1805_3sample/s1ppr2/propagated_1/pred_label_p8/coco.json\n",
      "save_dir /home/locobotm/0512_data/train_data_1805_3sample/s1ppr2/propagated_1/pred_label_p8/coco_visuals, coco_file_name /home/locobotm/0512_data/train_data_1805_3sample/s1ppr2/propagated_1/pred_label_p8/coco.json\n",
      "running coco for /home/locobotm/0512_data/train_data_1805_3sample/s1ppr2/propagated_1/pred_label_p4\n",
      "instance_label 87_plant\n",
      "instance_label 103_hamper\n",
      "instance_label 140_armchair\n",
      "Scene soumith_apt, seg dir /home/locobotm/0512_data/train_data_1805_3sample/s1ppr2/propagated_1/pred_label_p4/seg\n",
      "get_segm_files /home/locobotm/0512_data/train_data_1805_3sample/s1ppr2/propagated_1/pred_label_p4/seg, pct 1, total_files 30\n",
      "Creating COCO annotations for 30 images \n",
      " img_dir /home/locobotm/0512_data/train_data_1805_3sample/s1ppr2/propagated_1/pred_label_p4/rgb\n"
     ]
    },
    {
     "name": "stderr",
     "output_type": "stream",
     "text": [
      "100%|█████████████████████████████████████████████████████████████████████████████████████████████████████| 30/30 [00:07<00:00,  4.25it/s]\n"
     ]
    },
    {
     "name": "stdout",
     "output_type": "stream",
     "text": [
      "self.CATS [{'id': 1, 'name': '87_plant', 'supercategory': 'shape'}, {'id': 2, 'name': '103_hamper', 'supercategory': 'shape'}, {'id': 3, 'name': '140_armchair', 'supercategory': 'shape'}]\n",
      "Dumping 30 annotations to /home/locobotm/0512_data/train_data_1805_3sample/s1ppr2/propagated_1/pred_label_p4/coco.json\n",
      "save_dir /home/locobotm/0512_data/train_data_1805_3sample/s1ppr2/propagated_1/pred_label_p4/coco_visuals, coco_file_name /home/locobotm/0512_data/train_data_1805_3sample/s1ppr2/propagated_1/pred_label_p4/coco.json\n",
      "running coco for /home/locobotm/0512_data/train_data_1805_3sample/s1ppr2/propagated_1/pred_label_p16\n",
      "instance_label 87_plant\n",
      "instance_label 103_hamper\n",
      "instance_label 140_armchair\n",
      "Scene soumith_apt, seg dir /home/locobotm/0512_data/train_data_1805_3sample/s1ppr2/propagated_1/pred_label_p16/seg\n",
      "get_segm_files /home/locobotm/0512_data/train_data_1805_3sample/s1ppr2/propagated_1/pred_label_p16/seg, pct 1, total_files 91\n",
      "Creating COCO annotations for 91 images \n",
      " img_dir /home/locobotm/0512_data/train_data_1805_3sample/s1ppr2/propagated_1/pred_label_p16/rgb\n"
     ]
    },
    {
     "name": "stderr",
     "output_type": "stream",
     "text": [
      "100%|█████████████████████████████████████████████████████████████████████████████████████████████████████| 91/91 [00:35<00:00,  2.54it/s]\n"
     ]
    },
    {
     "name": "stdout",
     "output_type": "stream",
     "text": [
      "self.CATS [{'id': 1, 'name': '87_plant', 'supercategory': 'shape'}, {'id': 2, 'name': '103_hamper', 'supercategory': 'shape'}, {'id': 3, 'name': '140_armchair', 'supercategory': 'shape'}]\n",
      "Dumping 61 annotations to /home/locobotm/0512_data/train_data_1805_3sample/s1ppr2/propagated_1/pred_label_p16/coco.json\n",
      "save_dir /home/locobotm/0512_data/train_data_1805_3sample/s1ppr2/propagated_1/pred_label_p16/coco_visuals, coco_file_name /home/locobotm/0512_data/train_data_1805_3sample/s1ppr2/propagated_1/pred_label_p16/coco.json\n",
      "running coco for /home/locobotm/0512_data/train_data_1805_3sample/c1pps1pp/propagated_2/pred_label_p12\n",
      "instance_label 87_plant\n",
      "instance_label 103_hamper\n",
      "instance_label 140_armchair\n",
      "Scene soumith_apt, seg dir /home/locobotm/0512_data/train_data_1805_3sample/c1pps1pp/propagated_2/pred_label_p12/seg\n",
      "get_segm_files /home/locobotm/0512_data/train_data_1805_3sample/c1pps1pp/propagated_2/pred_label_p12/seg, pct 1, total_files 71\n",
      "Creating COCO annotations for 71 images \n",
      " img_dir /home/locobotm/0512_data/train_data_1805_3sample/c1pps1pp/propagated_2/pred_label_p12/rgb\n"
     ]
    },
    {
     "name": "stderr",
     "output_type": "stream",
     "text": [
      "100%|█████████████████████████████████████████████████████████████████████████████████████████████████████| 71/71 [00:25<00:00,  2.79it/s]\n"
     ]
    },
    {
     "name": "stdout",
     "output_type": "stream",
     "text": [
      "self.CATS [{'id': 1, 'name': '87_plant', 'supercategory': 'shape'}, {'id': 2, 'name': '103_hamper', 'supercategory': 'shape'}, {'id': 3, 'name': '140_armchair', 'supercategory': 'shape'}]\n",
      "Dumping 73 annotations to /home/locobotm/0512_data/train_data_1805_3sample/c1pps1pp/propagated_2/pred_label_p12/coco.json\n",
      "save_dir /home/locobotm/0512_data/train_data_1805_3sample/c1pps1pp/propagated_2/pred_label_p12/coco_visuals, coco_file_name /home/locobotm/0512_data/train_data_1805_3sample/c1pps1pp/propagated_2/pred_label_p12/coco.json\n",
      "running coco for /home/locobotm/0512_data/train_data_1805_3sample/c1pps1pp/propagated_2/pred_label_p0\n",
      "instance_label 87_plant\n",
      "instance_label 103_hamper\n",
      "instance_label 140_armchair\n",
      "Scene soumith_apt, seg dir /home/locobotm/0512_data/train_data_1805_3sample/c1pps1pp/propagated_2/pred_label_p0/seg\n",
      "get_segm_files /home/locobotm/0512_data/train_data_1805_3sample/c1pps1pp/propagated_2/pred_label_p0/seg, pct 1, total_files 6\n",
      "Creating COCO annotations for 6 images \n",
      " img_dir /home/locobotm/0512_data/train_data_1805_3sample/c1pps1pp/propagated_2/pred_label_p0/rgb\n"
     ]
    },
    {
     "name": "stderr",
     "output_type": "stream",
     "text": [
      "100%|███████████████████████████████████████████████████████████████████████████████████████████████████████| 6/6 [00:01<00:00,  4.73it/s]\n"
     ]
    },
    {
     "name": "stdout",
     "output_type": "stream",
     "text": [
      "self.CATS [{'id': 1, 'name': '87_plant', 'supercategory': 'shape'}, {'id': 2, 'name': '103_hamper', 'supercategory': 'shape'}, {'id': 3, 'name': '140_armchair', 'supercategory': 'shape'}]\n",
      "Dumping 8 annotations to /home/locobotm/0512_data/train_data_1805_3sample/c1pps1pp/propagated_2/pred_label_p0/coco.json\n",
      "save_dir /home/locobotm/0512_data/train_data_1805_3sample/c1pps1pp/propagated_2/pred_label_p0/coco_visuals, coco_file_name /home/locobotm/0512_data/train_data_1805_3sample/c1pps1pp/propagated_2/pred_label_p0/coco.json\n",
      "running coco for /home/locobotm/0512_data/train_data_1805_3sample/c1pps1pp/propagated_2/pred_label_p8\n",
      "instance_label 87_plant\n",
      "instance_label 103_hamper\n",
      "instance_label 140_armchair\n",
      "Scene soumith_apt, seg dir /home/locobotm/0512_data/train_data_1805_3sample/c1pps1pp/propagated_2/pred_label_p8/seg\n",
      "get_segm_files /home/locobotm/0512_data/train_data_1805_3sample/c1pps1pp/propagated_2/pred_label_p8/seg, pct 1, total_files 51\n",
      "Creating COCO annotations for 51 images \n",
      " img_dir /home/locobotm/0512_data/train_data_1805_3sample/c1pps1pp/propagated_2/pred_label_p8/rgb\n"
     ]
    },
    {
     "name": "stderr",
     "output_type": "stream",
     "text": [
      "100%|█████████████████████████████████████████████████████████████████████████████████████████████████████| 51/51 [00:14<00:00,  3.46it/s]\n"
     ]
    },
    {
     "name": "stdout",
     "output_type": "stream",
     "text": [
      "self.CATS [{'id': 1, 'name': '87_plant', 'supercategory': 'shape'}, {'id': 2, 'name': '103_hamper', 'supercategory': 'shape'}, {'id': 3, 'name': '140_armchair', 'supercategory': 'shape'}]\n",
      "Dumping 53 annotations to /home/locobotm/0512_data/train_data_1805_3sample/c1pps1pp/propagated_2/pred_label_p8/coco.json\n",
      "save_dir /home/locobotm/0512_data/train_data_1805_3sample/c1pps1pp/propagated_2/pred_label_p8/coco_visuals, coco_file_name /home/locobotm/0512_data/train_data_1805_3sample/c1pps1pp/propagated_2/pred_label_p8/coco.json\n",
      "running coco for /home/locobotm/0512_data/train_data_1805_3sample/c1pps1pp/propagated_2/pred_label_p4\n",
      "instance_label 87_plant\n",
      "instance_label 103_hamper\n",
      "instance_label 140_armchair\n",
      "Scene soumith_apt, seg dir /home/locobotm/0512_data/train_data_1805_3sample/c1pps1pp/propagated_2/pred_label_p4/seg\n",
      "get_segm_files /home/locobotm/0512_data/train_data_1805_3sample/c1pps1pp/propagated_2/pred_label_p4/seg, pct 1, total_files 30\n",
      "Creating COCO annotations for 30 images \n",
      " img_dir /home/locobotm/0512_data/train_data_1805_3sample/c1pps1pp/propagated_2/pred_label_p4/rgb\n"
     ]
    },
    {
     "name": "stderr",
     "output_type": "stream",
     "text": [
      "100%|█████████████████████████████████████████████████████████████████████████████████████████████████████| 30/30 [00:07<00:00,  4.22it/s]\n"
     ]
    },
    {
     "name": "stdout",
     "output_type": "stream",
     "text": [
      "self.CATS [{'id': 1, 'name': '87_plant', 'supercategory': 'shape'}, {'id': 2, 'name': '103_hamper', 'supercategory': 'shape'}, {'id': 3, 'name': '140_armchair', 'supercategory': 'shape'}]\n",
      "Dumping 32 annotations to /home/locobotm/0512_data/train_data_1805_3sample/c1pps1pp/propagated_2/pred_label_p4/coco.json\n",
      "save_dir /home/locobotm/0512_data/train_data_1805_3sample/c1pps1pp/propagated_2/pred_label_p4/coco_visuals, coco_file_name /home/locobotm/0512_data/train_data_1805_3sample/c1pps1pp/propagated_2/pred_label_p4/coco.json\n",
      "running coco for /home/locobotm/0512_data/train_data_1805_3sample/c1pps1pp/propagated_2/pred_label_p16\n",
      "instance_label 87_plant\n",
      "instance_label 103_hamper\n",
      "instance_label 140_armchair\n",
      "Scene soumith_apt, seg dir /home/locobotm/0512_data/train_data_1805_3sample/c1pps1pp/propagated_2/pred_label_p16/seg\n",
      "get_segm_files /home/locobotm/0512_data/train_data_1805_3sample/c1pps1pp/propagated_2/pred_label_p16/seg, pct 1, total_files 91\n",
      "Creating COCO annotations for 91 images \n",
      " img_dir /home/locobotm/0512_data/train_data_1805_3sample/c1pps1pp/propagated_2/pred_label_p16/rgb\n"
     ]
    },
    {
     "name": "stderr",
     "output_type": "stream",
     "text": [
      "100%|█████████████████████████████████████████████████████████████████████████████████████████████████████| 91/91 [00:37<00:00,  2.43it/s]\n"
     ]
    },
    {
     "name": "stdout",
     "output_type": "stream",
     "text": [
      "self.CATS [{'id': 1, 'name': '87_plant', 'supercategory': 'shape'}, {'id': 2, 'name': '103_hamper', 'supercategory': 'shape'}, {'id': 3, 'name': '140_armchair', 'supercategory': 'shape'}]\n",
      "Dumping 92 annotations to /home/locobotm/0512_data/train_data_1805_3sample/c1pps1pp/propagated_2/pred_label_p16/coco.json\n",
      "save_dir /home/locobotm/0512_data/train_data_1805_3sample/c1pps1pp/propagated_2/pred_label_p16/coco_visuals, coco_file_name /home/locobotm/0512_data/train_data_1805_3sample/c1pps1pp/propagated_2/pred_label_p16/coco.json\n",
      "running coco for /home/locobotm/0512_data/train_data_1805_3sample/c1pps1pp/propagated_0/pred_label_p12\n",
      "instance_label 87_plant\n",
      "instance_label 103_hamper\n",
      "instance_label 140_armchair\n",
      "Scene soumith_apt, seg dir /home/locobotm/0512_data/train_data_1805_3sample/c1pps1pp/propagated_0/pred_label_p12/seg\n",
      "get_segm_files /home/locobotm/0512_data/train_data_1805_3sample/c1pps1pp/propagated_0/pred_label_p12/seg, pct 1, total_files 71\n",
      "Creating COCO annotations for 71 images \n",
      " img_dir /home/locobotm/0512_data/train_data_1805_3sample/c1pps1pp/propagated_0/pred_label_p12/rgb\n"
     ]
    },
    {
     "name": "stderr",
     "output_type": "stream",
     "text": [
      "100%|█████████████████████████████████████████████████████████████████████████████████████████████████████| 71/71 [00:25<00:00,  2.73it/s]\n"
     ]
    },
    {
     "name": "stdout",
     "output_type": "stream",
     "text": [
      "self.CATS [{'id': 1, 'name': '87_plant', 'supercategory': 'shape'}, {'id': 2, 'name': '103_hamper', 'supercategory': 'shape'}, {'id': 3, 'name': '140_armchair', 'supercategory': 'shape'}]\n",
      "Dumping 73 annotations to /home/locobotm/0512_data/train_data_1805_3sample/c1pps1pp/propagated_0/pred_label_p12/coco.json\n",
      "save_dir /home/locobotm/0512_data/train_data_1805_3sample/c1pps1pp/propagated_0/pred_label_p12/coco_visuals, coco_file_name /home/locobotm/0512_data/train_data_1805_3sample/c1pps1pp/propagated_0/pred_label_p12/coco.json\n",
      "running coco for /home/locobotm/0512_data/train_data_1805_3sample/c1pps1pp/propagated_0/pred_label_p0\n",
      "instance_label 87_plant\n",
      "instance_label 103_hamper\n",
      "instance_label 140_armchair\n",
      "Scene soumith_apt, seg dir /home/locobotm/0512_data/train_data_1805_3sample/c1pps1pp/propagated_0/pred_label_p0/seg\n",
      "get_segm_files /home/locobotm/0512_data/train_data_1805_3sample/c1pps1pp/propagated_0/pred_label_p0/seg, pct 1, total_files 6\n",
      "Creating COCO annotations for 6 images \n",
      " img_dir /home/locobotm/0512_data/train_data_1805_3sample/c1pps1pp/propagated_0/pred_label_p0/rgb\n"
     ]
    },
    {
     "name": "stderr",
     "output_type": "stream",
     "text": [
      "100%|███████████████████████████████████████████████████████████████████████████████████████████████████████| 6/6 [00:01<00:00,  4.96it/s]\n"
     ]
    },
    {
     "name": "stdout",
     "output_type": "stream",
     "text": [
      "self.CATS [{'id': 1, 'name': '87_plant', 'supercategory': 'shape'}, {'id': 2, 'name': '103_hamper', 'supercategory': 'shape'}, {'id': 3, 'name': '140_armchair', 'supercategory': 'shape'}]\n",
      "Dumping 8 annotations to /home/locobotm/0512_data/train_data_1805_3sample/c1pps1pp/propagated_0/pred_label_p0/coco.json\n",
      "save_dir /home/locobotm/0512_data/train_data_1805_3sample/c1pps1pp/propagated_0/pred_label_p0/coco_visuals, coco_file_name /home/locobotm/0512_data/train_data_1805_3sample/c1pps1pp/propagated_0/pred_label_p0/coco.json\n",
      "running coco for /home/locobotm/0512_data/train_data_1805_3sample/c1pps1pp/propagated_0/pred_label_p8\n",
      "instance_label 87_plant\n",
      "instance_label 103_hamper\n",
      "instance_label 140_armchair\n",
      "Scene soumith_apt, seg dir /home/locobotm/0512_data/train_data_1805_3sample/c1pps1pp/propagated_0/pred_label_p8/seg\n",
      "get_segm_files /home/locobotm/0512_data/train_data_1805_3sample/c1pps1pp/propagated_0/pred_label_p8/seg, pct 1, total_files 51\n",
      "Creating COCO annotations for 51 images \n",
      " img_dir /home/locobotm/0512_data/train_data_1805_3sample/c1pps1pp/propagated_0/pred_label_p8/rgb\n"
     ]
    },
    {
     "name": "stderr",
     "output_type": "stream",
     "text": [
      "100%|█████████████████████████████████████████████████████████████████████████████████████████████████████| 51/51 [00:15<00:00,  3.38it/s]\n"
     ]
    },
    {
     "name": "stdout",
     "output_type": "stream",
     "text": [
      "self.CATS [{'id': 1, 'name': '87_plant', 'supercategory': 'shape'}, {'id': 2, 'name': '103_hamper', 'supercategory': 'shape'}, {'id': 3, 'name': '140_armchair', 'supercategory': 'shape'}]\n",
      "Dumping 53 annotations to /home/locobotm/0512_data/train_data_1805_3sample/c1pps1pp/propagated_0/pred_label_p8/coco.json\n",
      "save_dir /home/locobotm/0512_data/train_data_1805_3sample/c1pps1pp/propagated_0/pred_label_p8/coco_visuals, coco_file_name /home/locobotm/0512_data/train_data_1805_3sample/c1pps1pp/propagated_0/pred_label_p8/coco.json\n",
      "running coco for /home/locobotm/0512_data/train_data_1805_3sample/c1pps1pp/propagated_0/pred_label_p4\n",
      "instance_label 87_plant\n",
      "instance_label 103_hamper\n",
      "instance_label 140_armchair\n",
      "Scene soumith_apt, seg dir /home/locobotm/0512_data/train_data_1805_3sample/c1pps1pp/propagated_0/pred_label_p4/seg\n",
      "get_segm_files /home/locobotm/0512_data/train_data_1805_3sample/c1pps1pp/propagated_0/pred_label_p4/seg, pct 1, total_files 30\n",
      "Creating COCO annotations for 30 images \n",
      " img_dir /home/locobotm/0512_data/train_data_1805_3sample/c1pps1pp/propagated_0/pred_label_p4/rgb\n"
     ]
    },
    {
     "name": "stderr",
     "output_type": "stream",
     "text": [
      "100%|█████████████████████████████████████████████████████████████████████████████████████████████████████| 30/30 [00:06<00:00,  4.30it/s]\n"
     ]
    },
    {
     "name": "stdout",
     "output_type": "stream",
     "text": [
      "self.CATS [{'id': 1, 'name': '87_plant', 'supercategory': 'shape'}, {'id': 2, 'name': '103_hamper', 'supercategory': 'shape'}, {'id': 3, 'name': '140_armchair', 'supercategory': 'shape'}]\n",
      "Dumping 32 annotations to /home/locobotm/0512_data/train_data_1805_3sample/c1pps1pp/propagated_0/pred_label_p4/coco.json\n",
      "save_dir /home/locobotm/0512_data/train_data_1805_3sample/c1pps1pp/propagated_0/pred_label_p4/coco_visuals, coco_file_name /home/locobotm/0512_data/train_data_1805_3sample/c1pps1pp/propagated_0/pred_label_p4/coco.json\n",
      "running coco for /home/locobotm/0512_data/train_data_1805_3sample/c1pps1pp/propagated_0/pred_label_p16\n",
      "instance_label 87_plant\n",
      "instance_label 103_hamper\n",
      "instance_label 140_armchair\n",
      "Scene soumith_apt, seg dir /home/locobotm/0512_data/train_data_1805_3sample/c1pps1pp/propagated_0/pred_label_p16/seg\n",
      "get_segm_files /home/locobotm/0512_data/train_data_1805_3sample/c1pps1pp/propagated_0/pred_label_p16/seg, pct 1, total_files 91\n",
      "Creating COCO annotations for 91 images \n",
      " img_dir /home/locobotm/0512_data/train_data_1805_3sample/c1pps1pp/propagated_0/pred_label_p16/rgb\n"
     ]
    },
    {
     "name": "stderr",
     "output_type": "stream",
     "text": [
      "100%|█████████████████████████████████████████████████████████████████████████████████████████████████████| 91/91 [00:36<00:00,  2.53it/s]\n"
     ]
    },
    {
     "name": "stdout",
     "output_type": "stream",
     "text": [
      "self.CATS [{'id': 1, 'name': '87_plant', 'supercategory': 'shape'}, {'id': 2, 'name': '103_hamper', 'supercategory': 'shape'}, {'id': 3, 'name': '140_armchair', 'supercategory': 'shape'}]\n",
      "Dumping 92 annotations to /home/locobotm/0512_data/train_data_1805_3sample/c1pps1pp/propagated_0/pred_label_p16/coco.json\n",
      "save_dir /home/locobotm/0512_data/train_data_1805_3sample/c1pps1pp/propagated_0/pred_label_p16/coco_visuals, coco_file_name /home/locobotm/0512_data/train_data_1805_3sample/c1pps1pp/propagated_0/pred_label_p16/coco.json\n",
      "running coco for /home/locobotm/0512_data/train_data_1805_3sample/c1pps1pp/propagated_1/pred_label_p12\n",
      "instance_label 87_plant\n",
      "instance_label 103_hamper\n",
      "instance_label 140_armchair\n",
      "Scene soumith_apt, seg dir /home/locobotm/0512_data/train_data_1805_3sample/c1pps1pp/propagated_1/pred_label_p12/seg\n",
      "get_segm_files /home/locobotm/0512_data/train_data_1805_3sample/c1pps1pp/propagated_1/pred_label_p12/seg, pct 1, total_files 71\n",
      "Creating COCO annotations for 71 images \n",
      " img_dir /home/locobotm/0512_data/train_data_1805_3sample/c1pps1pp/propagated_1/pred_label_p12/rgb\n"
     ]
    },
    {
     "name": "stderr",
     "output_type": "stream",
     "text": [
      "100%|█████████████████████████████████████████████████████████████████████████████████████████████████████| 71/71 [00:27<00:00,  2.60it/s]\n"
     ]
    },
    {
     "name": "stdout",
     "output_type": "stream",
     "text": [
      "self.CATS [{'id': 1, 'name': '87_plant', 'supercategory': 'shape'}, {'id': 2, 'name': '103_hamper', 'supercategory': 'shape'}, {'id': 3, 'name': '140_armchair', 'supercategory': 'shape'}]\n",
      "Dumping 71 annotations to /home/locobotm/0512_data/train_data_1805_3sample/c1pps1pp/propagated_1/pred_label_p12/coco.json\n",
      "save_dir /home/locobotm/0512_data/train_data_1805_3sample/c1pps1pp/propagated_1/pred_label_p12/coco_visuals, coco_file_name /home/locobotm/0512_data/train_data_1805_3sample/c1pps1pp/propagated_1/pred_label_p12/coco.json\n",
      "running coco for /home/locobotm/0512_data/train_data_1805_3sample/c1pps1pp/propagated_1/pred_label_p0\n",
      "instance_label 87_plant\n",
      "instance_label 103_hamper\n",
      "instance_label 140_armchair\n",
      "Scene soumith_apt, seg dir /home/locobotm/0512_data/train_data_1805_3sample/c1pps1pp/propagated_1/pred_label_p0/seg\n",
      "get_segm_files /home/locobotm/0512_data/train_data_1805_3sample/c1pps1pp/propagated_1/pred_label_p0/seg, pct 1, total_files 6\n",
      "Creating COCO annotations for 6 images \n",
      " img_dir /home/locobotm/0512_data/train_data_1805_3sample/c1pps1pp/propagated_1/pred_label_p0/rgb\n"
     ]
    },
    {
     "name": "stderr",
     "output_type": "stream",
     "text": [
      "100%|███████████████████████████████████████████████████████████████████████████████████████████████████████| 6/6 [00:01<00:00,  4.73it/s]\n"
     ]
    },
    {
     "name": "stdout",
     "output_type": "stream",
     "text": [
      "self.CATS [{'id': 1, 'name': '87_plant', 'supercategory': 'shape'}, {'id': 2, 'name': '103_hamper', 'supercategory': 'shape'}, {'id': 3, 'name': '140_armchair', 'supercategory': 'shape'}]\n",
      "Dumping 6 annotations to /home/locobotm/0512_data/train_data_1805_3sample/c1pps1pp/propagated_1/pred_label_p0/coco.json\n",
      "save_dir /home/locobotm/0512_data/train_data_1805_3sample/c1pps1pp/propagated_1/pred_label_p0/coco_visuals, coco_file_name /home/locobotm/0512_data/train_data_1805_3sample/c1pps1pp/propagated_1/pred_label_p0/coco.json\n",
      "running coco for /home/locobotm/0512_data/train_data_1805_3sample/c1pps1pp/propagated_1/pred_label_p8\n",
      "instance_label 87_plant\n",
      "instance_label 103_hamper\n",
      "instance_label 140_armchair\n",
      "Scene soumith_apt, seg dir /home/locobotm/0512_data/train_data_1805_3sample/c1pps1pp/propagated_1/pred_label_p8/seg\n",
      "get_segm_files /home/locobotm/0512_data/train_data_1805_3sample/c1pps1pp/propagated_1/pred_label_p8/seg, pct 1, total_files 51\n",
      "Creating COCO annotations for 51 images \n",
      " img_dir /home/locobotm/0512_data/train_data_1805_3sample/c1pps1pp/propagated_1/pred_label_p8/rgb\n"
     ]
    },
    {
     "name": "stderr",
     "output_type": "stream",
     "text": [
      "100%|█████████████████████████████████████████████████████████████████████████████████████████████████████| 51/51 [00:16<00:00,  3.11it/s]\n"
     ]
    },
    {
     "name": "stdout",
     "output_type": "stream",
     "text": [
      "self.CATS [{'id': 1, 'name': '87_plant', 'supercategory': 'shape'}, {'id': 2, 'name': '103_hamper', 'supercategory': 'shape'}, {'id': 3, 'name': '140_armchair', 'supercategory': 'shape'}]\n",
      "Dumping 51 annotations to /home/locobotm/0512_data/train_data_1805_3sample/c1pps1pp/propagated_1/pred_label_p8/coco.json\n",
      "save_dir /home/locobotm/0512_data/train_data_1805_3sample/c1pps1pp/propagated_1/pred_label_p8/coco_visuals, coco_file_name /home/locobotm/0512_data/train_data_1805_3sample/c1pps1pp/propagated_1/pred_label_p8/coco.json\n",
      "running coco for /home/locobotm/0512_data/train_data_1805_3sample/c1pps1pp/propagated_1/pred_label_p4\n",
      "instance_label 87_plant\n",
      "instance_label 103_hamper\n",
      "instance_label 140_armchair\n",
      "Scene soumith_apt, seg dir /home/locobotm/0512_data/train_data_1805_3sample/c1pps1pp/propagated_1/pred_label_p4/seg\n",
      "get_segm_files /home/locobotm/0512_data/train_data_1805_3sample/c1pps1pp/propagated_1/pred_label_p4/seg, pct 1, total_files 30\n",
      "Creating COCO annotations for 30 images \n",
      " img_dir /home/locobotm/0512_data/train_data_1805_3sample/c1pps1pp/propagated_1/pred_label_p4/rgb\n"
     ]
    },
    {
     "name": "stderr",
     "output_type": "stream",
     "text": [
      "100%|█████████████████████████████████████████████████████████████████████████████████████████████████████| 30/30 [00:07<00:00,  4.28it/s]\n"
     ]
    },
    {
     "name": "stdout",
     "output_type": "stream",
     "text": [
      "self.CATS [{'id': 1, 'name': '87_plant', 'supercategory': 'shape'}, {'id': 2, 'name': '103_hamper', 'supercategory': 'shape'}, {'id': 3, 'name': '140_armchair', 'supercategory': 'shape'}]\n",
      "Dumping 30 annotations to /home/locobotm/0512_data/train_data_1805_3sample/c1pps1pp/propagated_1/pred_label_p4/coco.json\n",
      "save_dir /home/locobotm/0512_data/train_data_1805_3sample/c1pps1pp/propagated_1/pred_label_p4/coco_visuals, coco_file_name /home/locobotm/0512_data/train_data_1805_3sample/c1pps1pp/propagated_1/pred_label_p4/coco.json\n",
      "running coco for /home/locobotm/0512_data/train_data_1805_3sample/c1pps1pp/propagated_1/pred_label_p16\n",
      "instance_label 87_plant\n",
      "instance_label 103_hamper\n",
      "instance_label 140_armchair\n",
      "Scene soumith_apt, seg dir /home/locobotm/0512_data/train_data_1805_3sample/c1pps1pp/propagated_1/pred_label_p16/seg\n",
      "get_segm_files /home/locobotm/0512_data/train_data_1805_3sample/c1pps1pp/propagated_1/pred_label_p16/seg, pct 1, total_files 91\n",
      "Creating COCO annotations for 91 images \n",
      " img_dir /home/locobotm/0512_data/train_data_1805_3sample/c1pps1pp/propagated_1/pred_label_p16/rgb\n"
     ]
    },
    {
     "name": "stderr",
     "output_type": "stream",
     "text": [
      "100%|█████████████████████████████████████████████████████████████████████████████████████████████████████| 91/91 [00:35<00:00,  2.56it/s]\n"
     ]
    },
    {
     "name": "stdout",
     "output_type": "stream",
     "text": [
      "self.CATS [{'id': 1, 'name': '87_plant', 'supercategory': 'shape'}, {'id': 2, 'name': '103_hamper', 'supercategory': 'shape'}, {'id': 3, 'name': '140_armchair', 'supercategory': 'shape'}]\n",
      "Dumping 90 annotations to /home/locobotm/0512_data/train_data_1805_3sample/c1pps1pp/propagated_1/pred_label_p16/coco.json\n",
      "save_dir /home/locobotm/0512_data/train_data_1805_3sample/c1pps1pp/propagated_1/pred_label_p16/coco_visuals, coco_file_name /home/locobotm/0512_data/train_data_1805_3sample/c1pps1pp/propagated_1/pred_label_p16/coco.json\n",
      "running coco for /home/locobotm/0512_data/train_data_1805_3sample/c1ppr2/propagated_2/pred_label_p12\n",
      "instance_label 87_plant\n",
      "instance_label 103_hamper\n",
      "instance_label 140_armchair\n",
      "Scene soumith_apt, seg dir /home/locobotm/0512_data/train_data_1805_3sample/c1ppr2/propagated_2/pred_label_p12/seg\n",
      "get_segm_files /home/locobotm/0512_data/train_data_1805_3sample/c1ppr2/propagated_2/pred_label_p12/seg, pct 1, total_files 78\n",
      "Creating COCO annotations for 78 images \n",
      " img_dir /home/locobotm/0512_data/train_data_1805_3sample/c1ppr2/propagated_2/pred_label_p12/rgb\n"
     ]
    },
    {
     "name": "stderr",
     "output_type": "stream",
     "text": [
      "100%|█████████████████████████████████████████████████████████████████████████████████████████████████████| 78/78 [00:15<00:00,  4.93it/s]\n"
     ]
    },
    {
     "name": "stdout",
     "output_type": "stream",
     "text": [
      "self.CATS [{'id': 1, 'name': '87_plant', 'supercategory': 'shape'}, {'id': 2, 'name': '103_hamper', 'supercategory': 'shape'}, {'id': 3, 'name': '140_armchair', 'supercategory': 'shape'}]\n",
      "Dumping 61 annotations to /home/locobotm/0512_data/train_data_1805_3sample/c1ppr2/propagated_2/pred_label_p12/coco.json\n",
      "save_dir /home/locobotm/0512_data/train_data_1805_3sample/c1ppr2/propagated_2/pred_label_p12/coco_visuals, coco_file_name /home/locobotm/0512_data/train_data_1805_3sample/c1ppr2/propagated_2/pred_label_p12/coco.json\n",
      "running coco for /home/locobotm/0512_data/train_data_1805_3sample/c1ppr2/propagated_2/pred_label_p0\n",
      "instance_label 87_plant\n",
      "instance_label 103_hamper\n",
      "instance_label 140_armchair\n",
      "Scene soumith_apt, seg dir /home/locobotm/0512_data/train_data_1805_3sample/c1ppr2/propagated_2/pred_label_p0/seg\n",
      "get_segm_files /home/locobotm/0512_data/train_data_1805_3sample/c1ppr2/propagated_2/pred_label_p0/seg, pct 1, total_files 6\n",
      "Creating COCO annotations for 6 images \n",
      " img_dir /home/locobotm/0512_data/train_data_1805_3sample/c1ppr2/propagated_2/pred_label_p0/rgb\n"
     ]
    },
    {
     "name": "stderr",
     "output_type": "stream",
     "text": [
      "100%|███████████████████████████████████████████████████████████████████████████████████████████████████████| 6/6 [00:01<00:00,  4.98it/s]\n"
     ]
    },
    {
     "name": "stdout",
     "output_type": "stream",
     "text": [
      "self.CATS [{'id': 1, 'name': '87_plant', 'supercategory': 'shape'}, {'id': 2, 'name': '103_hamper', 'supercategory': 'shape'}, {'id': 3, 'name': '140_armchair', 'supercategory': 'shape'}]\n",
      "Dumping 8 annotations to /home/locobotm/0512_data/train_data_1805_3sample/c1ppr2/propagated_2/pred_label_p0/coco.json\n",
      "save_dir /home/locobotm/0512_data/train_data_1805_3sample/c1ppr2/propagated_2/pred_label_p0/coco_visuals, coco_file_name /home/locobotm/0512_data/train_data_1805_3sample/c1ppr2/propagated_2/pred_label_p0/coco.json\n",
      "running coco for /home/locobotm/0512_data/train_data_1805_3sample/c1ppr2/propagated_2/pred_label_p8\n",
      "instance_label 87_plant\n",
      "instance_label 103_hamper\n",
      "instance_label 140_armchair\n",
      "Scene soumith_apt, seg dir /home/locobotm/0512_data/train_data_1805_3sample/c1ppr2/propagated_2/pred_label_p8/seg\n",
      "get_segm_files /home/locobotm/0512_data/train_data_1805_3sample/c1ppr2/propagated_2/pred_label_p8/seg, pct 1, total_files 54\n",
      "Creating COCO annotations for 54 images \n",
      " img_dir /home/locobotm/0512_data/train_data_1805_3sample/c1ppr2/propagated_2/pred_label_p8/rgb\n"
     ]
    },
    {
     "name": "stderr",
     "output_type": "stream",
     "text": [
      "100%|█████████████████████████████████████████████████████████████████████████████████████████████████████| 54/54 [00:10<00:00,  4.94it/s]\n"
     ]
    },
    {
     "name": "stdout",
     "output_type": "stream",
     "text": [
      "self.CATS [{'id': 1, 'name': '87_plant', 'supercategory': 'shape'}, {'id': 2, 'name': '103_hamper', 'supercategory': 'shape'}, {'id': 3, 'name': '140_armchair', 'supercategory': 'shape'}]\n",
      "Dumping 48 annotations to /home/locobotm/0512_data/train_data_1805_3sample/c1ppr2/propagated_2/pred_label_p8/coco.json\n",
      "save_dir /home/locobotm/0512_data/train_data_1805_3sample/c1ppr2/propagated_2/pred_label_p8/coco_visuals, coco_file_name /home/locobotm/0512_data/train_data_1805_3sample/c1ppr2/propagated_2/pred_label_p8/coco.json\n",
      "running coco for /home/locobotm/0512_data/train_data_1805_3sample/c1ppr2/propagated_2/pred_label_p4\n",
      "instance_label 87_plant\n",
      "instance_label 103_hamper\n",
      "instance_label 140_armchair\n",
      "Scene soumith_apt, seg dir /home/locobotm/0512_data/train_data_1805_3sample/c1ppr2/propagated_2/pred_label_p4/seg\n",
      "get_segm_files /home/locobotm/0512_data/train_data_1805_3sample/c1ppr2/propagated_2/pred_label_p4/seg, pct 1, total_files 30\n",
      "Creating COCO annotations for 30 images \n",
      " img_dir /home/locobotm/0512_data/train_data_1805_3sample/c1ppr2/propagated_2/pred_label_p4/rgb\n"
     ]
    },
    {
     "name": "stderr",
     "output_type": "stream",
     "text": [
      "100%|█████████████████████████████████████████████████████████████████████████████████████████████████████| 30/30 [00:06<00:00,  4.98it/s]\n"
     ]
    },
    {
     "name": "stdout",
     "output_type": "stream",
     "text": [
      "self.CATS [{'id': 1, 'name': '87_plant', 'supercategory': 'shape'}, {'id': 2, 'name': '103_hamper', 'supercategory': 'shape'}, {'id': 3, 'name': '140_armchair', 'supercategory': 'shape'}]\n",
      "Dumping 32 annotations to /home/locobotm/0512_data/train_data_1805_3sample/c1ppr2/propagated_2/pred_label_p4/coco.json\n",
      "save_dir /home/locobotm/0512_data/train_data_1805_3sample/c1ppr2/propagated_2/pred_label_p4/coco_visuals, coco_file_name /home/locobotm/0512_data/train_data_1805_3sample/c1ppr2/propagated_2/pred_label_p4/coco.json\n",
      "running coco for /home/locobotm/0512_data/train_data_1805_3sample/c1ppr2/propagated_2/pred_label_p16\n",
      "instance_label 87_plant\n",
      "instance_label 103_hamper\n",
      "instance_label 140_armchair\n",
      "Scene soumith_apt, seg dir /home/locobotm/0512_data/train_data_1805_3sample/c1ppr2/propagated_2/pred_label_p16/seg\n",
      "get_segm_files /home/locobotm/0512_data/train_data_1805_3sample/c1ppr2/propagated_2/pred_label_p16/seg, pct 1, total_files 102\n",
      "Creating COCO annotations for 102 images \n",
      " img_dir /home/locobotm/0512_data/train_data_1805_3sample/c1ppr2/propagated_2/pred_label_p16/rgb\n"
     ]
    },
    {
     "name": "stderr",
     "output_type": "stream",
     "text": [
      "100%|███████████████████████████████████████████████████████████████████████████████████████████████████| 102/102 [00:20<00:00,  4.99it/s]\n"
     ]
    },
    {
     "name": "stdout",
     "output_type": "stream",
     "text": [
      "self.CATS [{'id': 1, 'name': '87_plant', 'supercategory': 'shape'}, {'id': 2, 'name': '103_hamper', 'supercategory': 'shape'}, {'id': 3, 'name': '140_armchair', 'supercategory': 'shape'}]\n",
      "Dumping 73 annotations to /home/locobotm/0512_data/train_data_1805_3sample/c1ppr2/propagated_2/pred_label_p16/coco.json\n",
      "save_dir /home/locobotm/0512_data/train_data_1805_3sample/c1ppr2/propagated_2/pred_label_p16/coco_visuals, coco_file_name /home/locobotm/0512_data/train_data_1805_3sample/c1ppr2/propagated_2/pred_label_p16/coco.json\n",
      "running coco for /home/locobotm/0512_data/train_data_1805_3sample/c1ppr2/propagated_0/pred_label_p12\n",
      "instance_label 87_plant\n",
      "instance_label 103_hamper\n",
      "instance_label 140_armchair\n",
      "Scene soumith_apt, seg dir /home/locobotm/0512_data/train_data_1805_3sample/c1ppr2/propagated_0/pred_label_p12/seg\n",
      "get_segm_files /home/locobotm/0512_data/train_data_1805_3sample/c1ppr2/propagated_0/pred_label_p12/seg, pct 1, total_files 78\n",
      "Creating COCO annotations for 78 images \n",
      " img_dir /home/locobotm/0512_data/train_data_1805_3sample/c1ppr2/propagated_0/pred_label_p12/rgb\n"
     ]
    },
    {
     "name": "stderr",
     "output_type": "stream",
     "text": [
      "100%|█████████████████████████████████████████████████████████████████████████████████████████████████████| 78/78 [00:15<00:00,  4.94it/s]\n"
     ]
    },
    {
     "name": "stdout",
     "output_type": "stream",
     "text": [
      "self.CATS [{'id': 1, 'name': '87_plant', 'supercategory': 'shape'}, {'id': 2, 'name': '103_hamper', 'supercategory': 'shape'}, {'id': 3, 'name': '140_armchair', 'supercategory': 'shape'}]\n",
      "Dumping 61 annotations to /home/locobotm/0512_data/train_data_1805_3sample/c1ppr2/propagated_0/pred_label_p12/coco.json\n",
      "save_dir /home/locobotm/0512_data/train_data_1805_3sample/c1ppr2/propagated_0/pred_label_p12/coco_visuals, coco_file_name /home/locobotm/0512_data/train_data_1805_3sample/c1ppr2/propagated_0/pred_label_p12/coco.json\n",
      "running coco for /home/locobotm/0512_data/train_data_1805_3sample/c1ppr2/propagated_0/pred_label_p0\n",
      "instance_label 87_plant\n",
      "instance_label 103_hamper\n",
      "instance_label 140_armchair\n",
      "Scene soumith_apt, seg dir /home/locobotm/0512_data/train_data_1805_3sample/c1ppr2/propagated_0/pred_label_p0/seg\n",
      "get_segm_files /home/locobotm/0512_data/train_data_1805_3sample/c1ppr2/propagated_0/pred_label_p0/seg, pct 1, total_files 6\n",
      "Creating COCO annotations for 6 images \n",
      " img_dir /home/locobotm/0512_data/train_data_1805_3sample/c1ppr2/propagated_0/pred_label_p0/rgb\n"
     ]
    },
    {
     "name": "stderr",
     "output_type": "stream",
     "text": [
      "100%|███████████████████████████████████████████████████████████████████████████████████████████████████████| 6/6 [00:01<00:00,  4.97it/s]\n"
     ]
    },
    {
     "name": "stdout",
     "output_type": "stream",
     "text": [
      "self.CATS [{'id': 1, 'name': '87_plant', 'supercategory': 'shape'}, {'id': 2, 'name': '103_hamper', 'supercategory': 'shape'}, {'id': 3, 'name': '140_armchair', 'supercategory': 'shape'}]\n",
      "Dumping 8 annotations to /home/locobotm/0512_data/train_data_1805_3sample/c1ppr2/propagated_0/pred_label_p0/coco.json\n",
      "save_dir /home/locobotm/0512_data/train_data_1805_3sample/c1ppr2/propagated_0/pred_label_p0/coco_visuals, coco_file_name /home/locobotm/0512_data/train_data_1805_3sample/c1ppr2/propagated_0/pred_label_p0/coco.json\n",
      "running coco for /home/locobotm/0512_data/train_data_1805_3sample/c1ppr2/propagated_0/pred_label_p8\n",
      "instance_label 87_plant\n",
      "instance_label 103_hamper\n",
      "instance_label 140_armchair\n",
      "Scene soumith_apt, seg dir /home/locobotm/0512_data/train_data_1805_3sample/c1ppr2/propagated_0/pred_label_p8/seg\n",
      "get_segm_files /home/locobotm/0512_data/train_data_1805_3sample/c1ppr2/propagated_0/pred_label_p8/seg, pct 1, total_files 54\n",
      "Creating COCO annotations for 54 images \n",
      " img_dir /home/locobotm/0512_data/train_data_1805_3sample/c1ppr2/propagated_0/pred_label_p8/rgb\n"
     ]
    },
    {
     "name": "stderr",
     "output_type": "stream",
     "text": [
      "100%|█████████████████████████████████████████████████████████████████████████████████████████████████████| 54/54 [00:10<00:00,  4.98it/s]\n"
     ]
    },
    {
     "name": "stdout",
     "output_type": "stream",
     "text": [
      "self.CATS [{'id': 1, 'name': '87_plant', 'supercategory': 'shape'}, {'id': 2, 'name': '103_hamper', 'supercategory': 'shape'}, {'id': 3, 'name': '140_armchair', 'supercategory': 'shape'}]\n",
      "Dumping 48 annotations to /home/locobotm/0512_data/train_data_1805_3sample/c1ppr2/propagated_0/pred_label_p8/coco.json\n",
      "save_dir /home/locobotm/0512_data/train_data_1805_3sample/c1ppr2/propagated_0/pred_label_p8/coco_visuals, coco_file_name /home/locobotm/0512_data/train_data_1805_3sample/c1ppr2/propagated_0/pred_label_p8/coco.json\n",
      "running coco for /home/locobotm/0512_data/train_data_1805_3sample/c1ppr2/propagated_0/pred_label_p4\n",
      "instance_label 87_plant\n",
      "instance_label 103_hamper\n",
      "instance_label 140_armchair\n",
      "Scene soumith_apt, seg dir /home/locobotm/0512_data/train_data_1805_3sample/c1ppr2/propagated_0/pred_label_p4/seg\n",
      "get_segm_files /home/locobotm/0512_data/train_data_1805_3sample/c1ppr2/propagated_0/pred_label_p4/seg, pct 1, total_files 30\n",
      "Creating COCO annotations for 30 images \n",
      " img_dir /home/locobotm/0512_data/train_data_1805_3sample/c1ppr2/propagated_0/pred_label_p4/rgb\n"
     ]
    },
    {
     "name": "stderr",
     "output_type": "stream",
     "text": [
      "100%|█████████████████████████████████████████████████████████████████████████████████████████████████████| 30/30 [00:05<00:00,  5.00it/s]\n"
     ]
    },
    {
     "name": "stdout",
     "output_type": "stream",
     "text": [
      "self.CATS [{'id': 1, 'name': '87_plant', 'supercategory': 'shape'}, {'id': 2, 'name': '103_hamper', 'supercategory': 'shape'}, {'id': 3, 'name': '140_armchair', 'supercategory': 'shape'}]\n",
      "Dumping 32 annotations to /home/locobotm/0512_data/train_data_1805_3sample/c1ppr2/propagated_0/pred_label_p4/coco.json\n",
      "save_dir /home/locobotm/0512_data/train_data_1805_3sample/c1ppr2/propagated_0/pred_label_p4/coco_visuals, coco_file_name /home/locobotm/0512_data/train_data_1805_3sample/c1ppr2/propagated_0/pred_label_p4/coco.json\n",
      "running coco for /home/locobotm/0512_data/train_data_1805_3sample/c1ppr2/propagated_0/pred_label_p16\n",
      "instance_label 87_plant\n",
      "instance_label 103_hamper\n",
      "instance_label 140_armchair\n",
      "Scene soumith_apt, seg dir /home/locobotm/0512_data/train_data_1805_3sample/c1ppr2/propagated_0/pred_label_p16/seg\n",
      "get_segm_files /home/locobotm/0512_data/train_data_1805_3sample/c1ppr2/propagated_0/pred_label_p16/seg, pct 1, total_files 102\n",
      "Creating COCO annotations for 102 images \n",
      " img_dir /home/locobotm/0512_data/train_data_1805_3sample/c1ppr2/propagated_0/pred_label_p16/rgb\n"
     ]
    },
    {
     "name": "stderr",
     "output_type": "stream",
     "text": [
      "100%|███████████████████████████████████████████████████████████████████████████████████████████████████| 102/102 [00:20<00:00,  4.92it/s]\n"
     ]
    },
    {
     "name": "stdout",
     "output_type": "stream",
     "text": [
      "self.CATS [{'id': 1, 'name': '87_plant', 'supercategory': 'shape'}, {'id': 2, 'name': '103_hamper', 'supercategory': 'shape'}, {'id': 3, 'name': '140_armchair', 'supercategory': 'shape'}]\n",
      "Dumping 73 annotations to /home/locobotm/0512_data/train_data_1805_3sample/c1ppr2/propagated_0/pred_label_p16/coco.json\n",
      "save_dir /home/locobotm/0512_data/train_data_1805_3sample/c1ppr2/propagated_0/pred_label_p16/coco_visuals, coco_file_name /home/locobotm/0512_data/train_data_1805_3sample/c1ppr2/propagated_0/pred_label_p16/coco.json\n",
      "running coco for /home/locobotm/0512_data/train_data_1805_3sample/c1ppr2/propagated_1/pred_label_p12\n",
      "instance_label 87_plant\n",
      "instance_label 103_hamper\n",
      "instance_label 140_armchair\n",
      "Scene soumith_apt, seg dir /home/locobotm/0512_data/train_data_1805_3sample/c1ppr2/propagated_1/pred_label_p12/seg\n",
      "get_segm_files /home/locobotm/0512_data/train_data_1805_3sample/c1ppr2/propagated_1/pred_label_p12/seg, pct 1, total_files 78\n",
      "Creating COCO annotations for 78 images \n",
      " img_dir /home/locobotm/0512_data/train_data_1805_3sample/c1ppr2/propagated_1/pred_label_p12/rgb\n"
     ]
    },
    {
     "name": "stderr",
     "output_type": "stream",
     "text": [
      "100%|█████████████████████████████████████████████████████████████████████████████████████████████████████| 78/78 [00:15<00:00,  4.88it/s]\n"
     ]
    },
    {
     "name": "stdout",
     "output_type": "stream",
     "text": [
      "self.CATS [{'id': 1, 'name': '87_plant', 'supercategory': 'shape'}, {'id': 2, 'name': '103_hamper', 'supercategory': 'shape'}, {'id': 3, 'name': '140_armchair', 'supercategory': 'shape'}]\n",
      "Dumping 59 annotations to /home/locobotm/0512_data/train_data_1805_3sample/c1ppr2/propagated_1/pred_label_p12/coco.json\n",
      "save_dir /home/locobotm/0512_data/train_data_1805_3sample/c1ppr2/propagated_1/pred_label_p12/coco_visuals, coco_file_name /home/locobotm/0512_data/train_data_1805_3sample/c1ppr2/propagated_1/pred_label_p12/coco.json\n",
      "running coco for /home/locobotm/0512_data/train_data_1805_3sample/c1ppr2/propagated_1/pred_label_p0\n",
      "instance_label 87_plant\n",
      "instance_label 103_hamper\n",
      "instance_label 140_armchair\n",
      "Scene soumith_apt, seg dir /home/locobotm/0512_data/train_data_1805_3sample/c1ppr2/propagated_1/pred_label_p0/seg\n",
      "get_segm_files /home/locobotm/0512_data/train_data_1805_3sample/c1ppr2/propagated_1/pred_label_p0/seg, pct 1, total_files 6\n",
      "Creating COCO annotations for 6 images \n",
      " img_dir /home/locobotm/0512_data/train_data_1805_3sample/c1ppr2/propagated_1/pred_label_p0/rgb\n"
     ]
    },
    {
     "name": "stderr",
     "output_type": "stream",
     "text": [
      "100%|███████████████████████████████████████████████████████████████████████████████████████████████████████| 6/6 [00:01<00:00,  4.86it/s]\n"
     ]
    },
    {
     "name": "stdout",
     "output_type": "stream",
     "text": [
      "self.CATS [{'id': 1, 'name': '87_plant', 'supercategory': 'shape'}, {'id': 2, 'name': '103_hamper', 'supercategory': 'shape'}, {'id': 3, 'name': '140_armchair', 'supercategory': 'shape'}]\n",
      "Dumping 6 annotations to /home/locobotm/0512_data/train_data_1805_3sample/c1ppr2/propagated_1/pred_label_p0/coco.json\n",
      "save_dir /home/locobotm/0512_data/train_data_1805_3sample/c1ppr2/propagated_1/pred_label_p0/coco_visuals, coco_file_name /home/locobotm/0512_data/train_data_1805_3sample/c1ppr2/propagated_1/pred_label_p0/coco.json\n",
      "running coco for /home/locobotm/0512_data/train_data_1805_3sample/c1ppr2/propagated_1/pred_label_p8\n",
      "instance_label 87_plant\n",
      "instance_label 103_hamper\n",
      "instance_label 140_armchair\n",
      "Scene soumith_apt, seg dir /home/locobotm/0512_data/train_data_1805_3sample/c1ppr2/propagated_1/pred_label_p8/seg\n",
      "get_segm_files /home/locobotm/0512_data/train_data_1805_3sample/c1ppr2/propagated_1/pred_label_p8/seg, pct 1, total_files 54\n",
      "Creating COCO annotations for 54 images \n",
      " img_dir /home/locobotm/0512_data/train_data_1805_3sample/c1ppr2/propagated_1/pred_label_p8/rgb\n"
     ]
    },
    {
     "name": "stderr",
     "output_type": "stream",
     "text": [
      "100%|█████████████████████████████████████████████████████████████████████████████████████████████████████| 54/54 [00:10<00:00,  4.95it/s]\n"
     ]
    },
    {
     "name": "stdout",
     "output_type": "stream",
     "text": [
      "self.CATS [{'id': 1, 'name': '87_plant', 'supercategory': 'shape'}, {'id': 2, 'name': '103_hamper', 'supercategory': 'shape'}, {'id': 3, 'name': '140_armchair', 'supercategory': 'shape'}]\n",
      "Dumping 46 annotations to /home/locobotm/0512_data/train_data_1805_3sample/c1ppr2/propagated_1/pred_label_p8/coco.json\n",
      "save_dir /home/locobotm/0512_data/train_data_1805_3sample/c1ppr2/propagated_1/pred_label_p8/coco_visuals, coco_file_name /home/locobotm/0512_data/train_data_1805_3sample/c1ppr2/propagated_1/pred_label_p8/coco.json\n",
      "running coco for /home/locobotm/0512_data/train_data_1805_3sample/c1ppr2/propagated_1/pred_label_p4\n",
      "instance_label 87_plant\n",
      "instance_label 103_hamper\n",
      "instance_label 140_armchair\n",
      "Scene soumith_apt, seg dir /home/locobotm/0512_data/train_data_1805_3sample/c1ppr2/propagated_1/pred_label_p4/seg\n",
      "get_segm_files /home/locobotm/0512_data/train_data_1805_3sample/c1ppr2/propagated_1/pred_label_p4/seg, pct 1, total_files 30\n",
      "Creating COCO annotations for 30 images \n",
      " img_dir /home/locobotm/0512_data/train_data_1805_3sample/c1ppr2/propagated_1/pred_label_p4/rgb\n"
     ]
    },
    {
     "name": "stderr",
     "output_type": "stream",
     "text": [
      "100%|█████████████████████████████████████████████████████████████████████████████████████████████████████| 30/30 [00:06<00:00,  4.82it/s]\n"
     ]
    },
    {
     "name": "stdout",
     "output_type": "stream",
     "text": [
      "self.CATS [{'id': 1, 'name': '87_plant', 'supercategory': 'shape'}, {'id': 2, 'name': '103_hamper', 'supercategory': 'shape'}, {'id': 3, 'name': '140_armchair', 'supercategory': 'shape'}]\n",
      "Dumping 30 annotations to /home/locobotm/0512_data/train_data_1805_3sample/c1ppr2/propagated_1/pred_label_p4/coco.json\n",
      "save_dir /home/locobotm/0512_data/train_data_1805_3sample/c1ppr2/propagated_1/pred_label_p4/coco_visuals, coco_file_name /home/locobotm/0512_data/train_data_1805_3sample/c1ppr2/propagated_1/pred_label_p4/coco.json\n",
      "running coco for /home/locobotm/0512_data/train_data_1805_3sample/c1ppr2/propagated_1/pred_label_p16\n",
      "instance_label 87_plant\n",
      "instance_label 103_hamper\n",
      "instance_label 140_armchair\n",
      "Scene soumith_apt, seg dir /home/locobotm/0512_data/train_data_1805_3sample/c1ppr2/propagated_1/pred_label_p16/seg\n",
      "get_segm_files /home/locobotm/0512_data/train_data_1805_3sample/c1ppr2/propagated_1/pred_label_p16/seg, pct 1, total_files 102\n",
      "Creating COCO annotations for 102 images \n",
      " img_dir /home/locobotm/0512_data/train_data_1805_3sample/c1ppr2/propagated_1/pred_label_p16/rgb\n"
     ]
    },
    {
     "name": "stderr",
     "output_type": "stream",
     "text": [
      "100%|███████████████████████████████████████████████████████████████████████████████████████████████████| 102/102 [00:20<00:00,  4.87it/s]\n"
     ]
    },
    {
     "name": "stdout",
     "output_type": "stream",
     "text": [
      "self.CATS [{'id': 1, 'name': '87_plant', 'supercategory': 'shape'}, {'id': 2, 'name': '103_hamper', 'supercategory': 'shape'}, {'id': 3, 'name': '140_armchair', 'supercategory': 'shape'}]\n",
      "Dumping 71 annotations to /home/locobotm/0512_data/train_data_1805_3sample/c1ppr2/propagated_1/pred_label_p16/coco.json\n",
      "save_dir /home/locobotm/0512_data/train_data_1805_3sample/c1ppr2/propagated_1/pred_label_p16/coco_visuals, coco_file_name /home/locobotm/0512_data/train_data_1805_3sample/c1ppr2/propagated_1/pred_label_p16/coco.json\n",
      "running coco for /home/locobotm/0512_data/train_data_1805_3sample/r1r2/propagated_2/pred_label_p12\n",
      "instance_label 87_plant\n",
      "instance_label 103_hamper\n",
      "instance_label 140_armchair\n",
      "Scene soumith_apt, seg dir /home/locobotm/0512_data/train_data_1805_3sample/r1r2/propagated_2/pred_label_p12/seg\n",
      "get_segm_files /home/locobotm/0512_data/train_data_1805_3sample/r1r2/propagated_2/pred_label_p12/seg, pct 1, total_files 78\n",
      "Creating COCO annotations for 78 images \n",
      " img_dir /home/locobotm/0512_data/train_data_1805_3sample/r1r2/propagated_2/pred_label_p12/rgb\n"
     ]
    },
    {
     "name": "stderr",
     "output_type": "stream",
     "text": [
      "100%|█████████████████████████████████████████████████████████████████████████████████████████████████████| 78/78 [00:15<00:00,  4.91it/s]\n"
     ]
    },
    {
     "name": "stdout",
     "output_type": "stream",
     "text": [
      "self.CATS [{'id': 1, 'name': '87_plant', 'supercategory': 'shape'}, {'id': 2, 'name': '103_hamper', 'supercategory': 'shape'}, {'id': 3, 'name': '140_armchair', 'supercategory': 'shape'}]\n",
      "Dumping 41 annotations to /home/locobotm/0512_data/train_data_1805_3sample/r1r2/propagated_2/pred_label_p12/coco.json\n",
      "save_dir /home/locobotm/0512_data/train_data_1805_3sample/r1r2/propagated_2/pred_label_p12/coco_visuals, coco_file_name /home/locobotm/0512_data/train_data_1805_3sample/r1r2/propagated_2/pred_label_p12/coco.json\n",
      "running coco for /home/locobotm/0512_data/train_data_1805_3sample/r1r2/propagated_2/pred_label_p0\n",
      "instance_label 87_plant\n",
      "instance_label 103_hamper\n",
      "instance_label 140_armchair\n",
      "Scene soumith_apt, seg dir /home/locobotm/0512_data/train_data_1805_3sample/r1r2/propagated_2/pred_label_p0/seg\n",
      "get_segm_files /home/locobotm/0512_data/train_data_1805_3sample/r1r2/propagated_2/pred_label_p0/seg, pct 1, total_files 6\n",
      "Creating COCO annotations for 6 images \n",
      " img_dir /home/locobotm/0512_data/train_data_1805_3sample/r1r2/propagated_2/pred_label_p0/rgb\n"
     ]
    },
    {
     "name": "stderr",
     "output_type": "stream",
     "text": [
      "100%|███████████████████████████████████████████████████████████████████████████████████████████████████████| 6/6 [00:01<00:00,  4.86it/s]\n"
     ]
    },
    {
     "name": "stdout",
     "output_type": "stream",
     "text": [
      "self.CATS [{'id': 1, 'name': '87_plant', 'supercategory': 'shape'}, {'id': 2, 'name': '103_hamper', 'supercategory': 'shape'}, {'id': 3, 'name': '140_armchair', 'supercategory': 'shape'}]\n",
      "Dumping 8 annotations to /home/locobotm/0512_data/train_data_1805_3sample/r1r2/propagated_2/pred_label_p0/coco.json\n",
      "save_dir /home/locobotm/0512_data/train_data_1805_3sample/r1r2/propagated_2/pred_label_p0/coco_visuals, coco_file_name /home/locobotm/0512_data/train_data_1805_3sample/r1r2/propagated_2/pred_label_p0/coco.json\n",
      "running coco for /home/locobotm/0512_data/train_data_1805_3sample/r1r2/propagated_2/pred_label_p8\n",
      "instance_label 87_plant\n",
      "instance_label 103_hamper\n",
      "instance_label 140_armchair\n",
      "Scene soumith_apt, seg dir /home/locobotm/0512_data/train_data_1805_3sample/r1r2/propagated_2/pred_label_p8/seg\n",
      "get_segm_files /home/locobotm/0512_data/train_data_1805_3sample/r1r2/propagated_2/pred_label_p8/seg, pct 1, total_files 54\n",
      "Creating COCO annotations for 54 images \n",
      " img_dir /home/locobotm/0512_data/train_data_1805_3sample/r1r2/propagated_2/pred_label_p8/rgb\n"
     ]
    },
    {
     "name": "stderr",
     "output_type": "stream",
     "text": [
      " 69%|█████████████████████████████████████████████████████████████████████▏                               | 37/54 [00:07<00:03,  5.12it/s]"
     ]
    }
   ],
   "source": [
    "import numpy as np\n",
    "import sys\n",
    "import cv2\n",
    "import random\n",
    "import os\n",
    "import numpy as np\n",
    "import json\n",
    "from matplotlib import pyplot as plt\n",
    "from PIL import Image\n",
    "from pycococreatortools import pycococreatortools\n",
    "from IPython import embed\n",
    "from tqdm import tqdm\n",
    "from IPython.core.display import display, HTML\n",
    "import os\n",
    "import shutil\n",
    "import glob \n",
    "from pathlib import Path\n",
    "from detectron2.data import DatasetCatalog, MetadataCatalog\n",
    "from detectron2.data.datasets import register_coco_instances\n",
    "from detectron2.utils.visualizer import Visualizer, ColorMode\n",
    "\n",
    "\n",
    "class CocoCreator:\n",
    "    # Assumes root_data_dir has both te GT and propagated segmentation labels\n",
    "    def __init__(self, root_data_dir):\n",
    "        self.rdd = root_data_dir\n",
    "        self.segm_dir = os.path.join(root_data_dir, 'seg')\n",
    "        self.visuals_dir = 'coco_visuals'\n",
    "        \n",
    "    def create_coco(self, scene, coco_file_name, pct, use_gt):\n",
    "        if use_gt:\n",
    "            self.segm_dir = os.path.join(self.rdd, 'seg_gt')\n",
    "            self.visuals_dir = 'coco_visuals_gt'\n",
    "        self.create_metadata()\n",
    "        self.create_annos(scene, pct)\n",
    "        self.save_json(coco_file_name)\n",
    "        self.save_visual_dataset(coco_file_name, scene)\n",
    "    \n",
    "    def save_visual_dataset(self, coco_file_name, scene):\n",
    "        DatasetCatalog.clear()\n",
    "        MetadataCatalog.clear()\n",
    "\n",
    "        register_coco_instances('foobar', {}, coco_file_name, os.path.join(self.rdd, 'rgb'))\n",
    "        MetadataCatalog.get('foobar')\n",
    "        dataset_dicts = DatasetCatalog.get('foobar')\n",
    "        \n",
    "        save_dir = os.path.join(self.rdd, self.visuals_dir)\n",
    "        print(f'save_dir {save_dir}, coco_file_name {coco_file_name}')\n",
    "        # if os.path.exists(save_dir):\n",
    "        #     shutil.rmtree(save_dir)\n",
    "        if not os.path.exists(save_dir):\n",
    "            os.makedirs(save_dir)\n",
    "        \n",
    "        for d in dataset_dicts:\n",
    "            img = cv2.imread(d[\"file_name\"])\n",
    "            x = d['file_name'].split('/')[-1]\n",
    "            # print(f\"filename {d['file_name'], x}, visual_file {os.path.join(save_dir, x)}\")\n",
    "            visualizer = Visualizer(img[:,:,::-1], metadata=MetadataCatalog.get('foobar'), scale=0.5)\n",
    "            vis = visualizer.draw_dataset_dict(d)\n",
    "            img = vis.get_image()\n",
    "            cv2.imwrite(os.path.join(save_dir, x), img[:,:,::-1])\n",
    "            # plt.figure(figsize=(4, 4))\n",
    "            # plt.imshow(img)\n",
    "            # plt.show()\n",
    "        \n",
    "    def save_json(self, coco_file_name):\n",
    "        coco_output = {\n",
    "            \"info\": self.INFO,\n",
    "            \"licenses\": self.LICENSES,\n",
    "            \"categories\": self.CATEGORIES,\n",
    "            \"images\": self.IMAGES,\n",
    "            \"annotations\": self.ANNOTATIONS,\n",
    "        }\n",
    "        print(f'self.CATS {self.CATEGORIES}')\n",
    "        print(f\"Dumping {len(coco_output['annotations'])} annotations to {coco_file_name}\")\n",
    "        with open(coco_file_name, \"w\") as output_json:\n",
    "            json.dump(coco_output, output_json)\n",
    "        \n",
    "    def create_metadata(self):\n",
    "        self.INFO = {}\n",
    "        self.LICENSES = [{}]\n",
    "        self.CATEGORIES = []\n",
    "        self.IMAGES = []\n",
    "        self.ANNOTATIONS = []\n",
    "        self.label_to_id = {}\n",
    "        idc = 1\n",
    "        for i, label in id_to_label.items():\n",
    "            instance_label = str(i) + '_' + label\n",
    "            print(f'instance_label {instance_label}')\n",
    "            self.CATEGORIES.append({\"id\": idc, \"name\": instance_label, \"supercategory\": \"shape\"})\n",
    "            self.label_to_id[i] = idc\n",
    "            idc += 1\n",
    "    \n",
    "    def create_annos(self, scene, pct):\n",
    "        coco_img_id = -1\n",
    "        count = 0\n",
    "        segm_dir = self.segm_dir\n",
    "        print(f\"Scene {scene}, seg dir {segm_dir}\")       \n",
    "        img_dir = os.path.join(self.rdd, 'rgb')\n",
    "        fs = self.get_segm_files(segm_dir, pct)\n",
    "        print(f\"Creating COCO annotations for {len(fs)} images \\n img_dir {img_dir}\")\n",
    "        \n",
    "        for f in tqdm(fs):\n",
    "            image_id = int(f.split('.')[0])\n",
    "            try:\n",
    "                prop_path = os.path.join(segm_dir, \"{:05d}.npy\".format(image_id))\n",
    "                annot = np.load(prop_path).astype(np.uint32)\n",
    "            except Exception as e:\n",
    "                print(e)\n",
    "                continue\n",
    "\n",
    "            img_filename = \"{:05d}.jpg\".format(image_id)            \n",
    "            img = Image.open(os.path.join(img_dir, img_filename))\n",
    "\n",
    "            # COCO ID and names\n",
    "            coco_img_id += 1\n",
    "\n",
    "            image_info = pycococreatortools.create_image_info(\n",
    "                coco_img_id, os.path.basename(img_filename), img.size\n",
    "            )\n",
    "\n",
    "            self.IMAGES.append(image_info)\n",
    "            for i in np.sort(np.unique(annot.reshape(-1), axis=0)):\n",
    "                if i in id_to_label:\n",
    "                    try:\n",
    "                        category_info = {\"id\": self.label_to_id[i], \"is_crowd\": False}\n",
    "                        # print(f'category_info {category_info}')\n",
    "                    except Exception as ex:\n",
    "                        print(f'exception {ex}')\n",
    "                        continue\n",
    "\n",
    "                    binary_mask = (annot == i).astype(np.uint32)\n",
    "\n",
    "                    annotation_info = pycococreatortools.create_annotation_info(\n",
    "                        count, coco_img_id, category_info, binary_mask, img.size, tolerance=2\n",
    "                    )\n",
    "                    if annotation_info is not None:\n",
    "                        self.ANNOTATIONS.append(annotation_info)\n",
    "                        count += 1\n",
    "        \n",
    "    def get_segm_files(self, segm_dir, pct):\n",
    "        cs = [os.path.basename(x) for x in glob.glob(os.path.join(segm_dir, '*.npy'))]\n",
    "        print(f'get_segm_files {segm_dir}, pct {pct}, total_files {len(cs)}')\n",
    "        cs.sort()\n",
    "        frq = 1/pct\n",
    "        fs = []\n",
    "        for x in range(0, len(cs), int(frq)):\n",
    "            fs.append(cs[x])\n",
    "        return fs \n",
    "\n",
    "def run_coco(root_data_dir):\n",
    "    cbase = CocoCreator(root_data_dir)\n",
    "    cbase.create_coco(\n",
    "        scene='soumith_apt', \n",
    "        coco_file_name=os.path.join(root_data_dir, 'coco.json'),\n",
    "        pct=1,\n",
    "        use_gt=False,\n",
    "    )\n",
    "    \n",
    "id_to_label = {\n",
    "    87: 'plant',\n",
    "#     97: 'jacket',\n",
    "    103: 'hamper',\n",
    "    # 106: 'sidetable',\n",
    "    140: 'armchair',\n",
    "}\n",
    "\n",
    "\n",
    "# build test set - pictures captured from phone \n",
    "# run_coco('/home/locobotm/Photos-001-ordered')\n",
    "\n",
    "# build validation set - pictures from trajectory\n",
    "# run_coco('/home/locobotm/0512_data/reexplore_final/val_set_sample/')\n",
    "\n",
    "\n",
    "# build train set \n",
    "train_data = '/home/locobotm/0512_data/train_data_1805_3sample/'\n",
    "for path in Path(train_data).rglob('pred_label*'):\n",
    "    print(f'running coco for {str(path)}')\n",
    "    run_coco(str(path))"
   ]
  },
  {
   "cell_type": "code",
   "execution_count": 11,
   "id": "9b9c38bc-cad9-4a65-9890-f1a0dec39080",
   "metadata": {},
   "outputs": [
    {
     "name": "stdout",
     "output_type": "stream",
     "text": [
      "00140.npy [  0 140]\n",
      "00106.npy [  0 106]\n",
      "00087.npy [ 0 87]\n",
      "00097.npy [ 0 97]\n",
      "00103.npy [  0 103]\n"
     ]
    }
   ],
   "source": [
    "# og_seg_dir = '/home/locobotm/0512_data/reexplore_final/baseline_explore/seg/'\n",
    "\n",
    "# # create a dict of id to label\n",
    "# id_to_label = {\n",
    "#     87: 'plant',\n",
    "#     97: 'jacket',\n",
    "#     103: 'hamper',\n",
    "#     106: 'sidetable',\n",
    "#     140: 'armchair',\n",
    "# }\n",
    "\n",
    "# for x in os.listdir(og_seg_dir):\n",
    "#     seg = np.load(os.path.join(og_seg_dir, x)).astype(np.uint32)\n",
    "#     seg[seg == True] = int(x.split('.')[0])\n",
    "#     print(x, np.unique(seg))\n",
    "#     np.save(os.path.join(og_seg_dir, x), seg)"
   ]
  },
  {
   "cell_type": "code",
   "execution_count": null,
   "id": "63bac054-334c-497a-9587-dc48044ef8a6",
   "metadata": {},
   "outputs": [],
   "source": []
  }
 ],
 "metadata": {
  "kernelspec": {
   "display_name": "Python 3 (ipykernel)",
   "language": "python",
   "name": "python3"
  },
  "language_info": {
   "codemirror_mode": {
    "name": "ipython",
    "version": 3
   },
   "file_extension": ".py",
   "mimetype": "text/x-python",
   "name": "python",
   "nbconvert_exporter": "python",
   "pygments_lexer": "ipython3",
   "version": "3.8.13"
  }
 },
 "nbformat": 4,
 "nbformat_minor": 5
}
