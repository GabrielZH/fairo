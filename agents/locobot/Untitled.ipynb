{
 "cells": [
  {
   "cell_type": "code",
   "execution_count": 3,
   "id": "57e4c8d8",
   "metadata": {},
   "outputs": [],
   "source": [
    "data_dir = '/home/locobotm/Photos-001/'\n",
    "out_dir = '/home/locobotm/Photos-001-ordered'\n",
    "\n",
    "# convert to numeric names\n",
    "import os\n",
    "import shutil\n",
    "\n",
    "os.makedirs(out_dir, exist_ok=True)\n",
    "os.makedirs(os.path.join(out_dir, 'rgb'), exist_ok=True)\n",
    "os.makedirs(os.path.join(out_dir, 'seg'), exist_ok=True)\n",
    "\n",
    "ctr = 0\n",
    "for x in os.listdir(os.path.join(data_dir, 'rgb')):\n",
    "    shutil.copyfile(os.path.join(data_dir, 'rgb', x), os.path.join(out_dir, 'rgb', f'{ctr:05d}.jpg'))\n",
    "    shutil.copyfile(os.path.join(data_dir, 'seg', f\"{x.split('.')[0]}.npy\"), os.path.join(out_dir, 'seg', f'{ctr:05d}.npy'))\n",
    "    ctr += 1\n",
    "#     print(x)"
   ]
  },
  {
   "cell_type": "code",
   "execution_count": null,
   "id": "e4aa55a8",
   "metadata": {},
   "outputs": [],
   "source": []
  }
 ],
 "metadata": {
  "kernelspec": {
   "display_name": "Python 3 (ipykernel)",
   "language": "python",
   "name": "python3"
  },
  "language_info": {
   "codemirror_mode": {
    "name": "ipython",
    "version": 3
   },
   "file_extension": ".py",
   "mimetype": "text/x-python",
   "name": "python",
   "nbconvert_exporter": "python",
   "pygments_lexer": "ipython3",
   "version": "3.8.13"
  }
 },
 "nbformat": 4,
 "nbformat_minor": 5
}
